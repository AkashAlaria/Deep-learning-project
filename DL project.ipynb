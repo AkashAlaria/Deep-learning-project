{
 "cells": [
  {
   "cell_type": "markdown",
   "id": "8e47520d",
   "metadata": {},
   "source": [
    "# FAKE NEWS DETECTION USING RNN"
   ]
  },
  {
   "cell_type": "markdown",
   "id": "073c0991",
   "metadata": {},
   "source": [
    "# Loading the Datasets\n",
    "\n",
    "You need to load both CSV files and label them appropriately (e.g., 1 for fake news and 0 for real news)."
   ]
  },
  {
   "cell_type": "code",
   "execution_count": 1,
   "id": "d9f025c0",
   "metadata": {},
   "outputs": [
    {
     "name": "stdout",
     "output_type": "stream",
     "text": [
      "                                               title  \\\n",
      "0   Donald Trump Sends Out Embarrassing New Year’...   \n",
      "1   Drunk Bragging Trump Staffer Started Russian ...   \n",
      "2   Sheriff David Clarke Becomes An Internet Joke...   \n",
      "3   Trump Is So Obsessed He Even Has Obama’s Name...   \n",
      "4   Pope Francis Just Called Out Donald Trump Dur...   \n",
      "\n",
      "                                                text subject  \\\n",
      "0  Donald Trump just couldn t wish all Americans ...    News   \n",
      "1  House Intelligence Committee Chairman Devin Nu...    News   \n",
      "2  On Friday, it was revealed that former Milwauk...    News   \n",
      "3  On Christmas day, Donald Trump announced that ...    News   \n",
      "4  Pope Francis used his annual Christmas Day mes...    News   \n",
      "\n",
      "                date  \n",
      "0  December 31, 2017  \n",
      "1  December 31, 2017  \n",
      "2  December 30, 2017  \n",
      "3  December 29, 2017  \n",
      "4  December 25, 2017  \n",
      "                                               title  \\\n",
      "0  As U.S. budget fight looms, Republicans flip t...   \n",
      "1  U.S. military to accept transgender recruits o...   \n",
      "2  Senior U.S. Republican senator: 'Let Mr. Muell...   \n",
      "3  FBI Russia probe helped by Australian diplomat...   \n",
      "4  Trump wants Postal Service to charge 'much mor...   \n",
      "\n",
      "                                                text       subject  \\\n",
      "0  WASHINGTON (Reuters) - The head of a conservat...  politicsNews   \n",
      "1  WASHINGTON (Reuters) - Transgender people will...  politicsNews   \n",
      "2  WASHINGTON (Reuters) - The special counsel inv...  politicsNews   \n",
      "3  WASHINGTON (Reuters) - Trump campaign adviser ...  politicsNews   \n",
      "4  SEATTLE/WASHINGTON (Reuters) - President Donal...  politicsNews   \n",
      "\n",
      "                 date  \n",
      "0  December 31, 2017   \n",
      "1  December 29, 2017   \n",
      "2  December 31, 2017   \n",
      "3  December 30, 2017   \n",
      "4  December 29, 2017   \n"
     ]
    }
   ],
   "source": [
    "import pandas as pd\n",
    "import warnings \n",
    "warnings.filterwarnings('ignore')\n",
    "\n",
    "# Load the two datasets\n",
    "fake_df = pd.read_csv('/Users/sora/Downloads/Fake.csv')\n",
    "true_df = pd.read_csv('/Users/sora/Downloads/True.csv')\n",
    "\n",
    "# Preview the datasets\n",
    "print(fake_df.head())\n",
    "print(true_df.head())"
   ]
  },
  {
   "cell_type": "markdown",
   "id": "7adf929b",
   "metadata": {},
   "source": [
    "Both datasets contain a text column with the articles, we can create labels for them."
   ]
  },
  {
   "cell_type": "markdown",
   "id": "6e96576a",
   "metadata": {},
   "source": [
    "# Labeling the Datasets\n",
    "\n",
    "Add a label column to each dataset to differentiate fake and real news. For example, 1 for fake news and 0 for real news."
   ]
  },
  {
   "cell_type": "code",
   "execution_count": 2,
   "id": "bfff668c",
   "metadata": {},
   "outputs": [],
   "source": [
    "# Add a label column: 1 for fake news, 0 for real news\n",
    "fake_df['label'] = 1\n",
    "true_df['label'] = 0"
   ]
  },
  {
   "cell_type": "markdown",
   "id": "4cea8edb",
   "metadata": {},
   "source": [
    "# Combining the Datasets\n",
    "\n",
    "Once labeled, we can combine both datasets into a single DataFrame."
   ]
  },
  {
   "cell_type": "code",
   "execution_count": 3,
   "id": "24279f1c",
   "metadata": {},
   "outputs": [
    {
     "name": "stdout",
     "output_type": "stream",
     "text": [
      "                                               title  \\\n",
      "0  No evidence Saudi Arabia detaining Hariri: Ger...   \n",
      "1  CLUELESS NBA COACH’S Rant Comparing Trump To A...   \n",
      "2   RNC BANS Watchdog That Has Attended The GOP C...   \n",
      "3  Venezuela ex-prosecutor says she has evidence ...   \n",
      "4  Australians protest against unfolding 'emergen...   \n",
      "\n",
      "                                                text    subject  \\\n",
      "0  BERLIN (Reuters) - Germany has no evidence tha...  worldnews   \n",
      "1  In the realm of the NBA, Spurs head coach Greg...   politics   \n",
      "2  The Republican National Committee seems to be ...       News   \n",
      "3  BRASILIA/CARACAS (Reuters) - Dismissed Venezue...  worldnews   \n",
      "4  SYDNEY (Reuters) - More than 1,000 people prot...  worldnews   \n",
      "\n",
      "                 date  label  \n",
      "0  November 10, 2017       0  \n",
      "1        May 16, 2017      1  \n",
      "2        July 2, 2016      1  \n",
      "3    August 23, 2017       0  \n",
      "4   November 4, 2017       0  \n",
      "label\n",
      "1    23481\n",
      "0    21417\n",
      "Name: count, dtype: int64\n"
     ]
    }
   ],
   "source": [
    "# Combine the datasets\n",
    "df = pd.concat([fake_df, true_df], ignore_index=True)\n",
    "\n",
    "# Shuffle the dataset to mix fake and real news\n",
    "df = df.sample(frac=1).reset_index(drop=True)\n",
    "\n",
    "# Check the structure of the combined dataset\n",
    "print(df.head())\n",
    "print(df['label'].value_counts())  # Check the distribution of fake and real news"
   ]
  },
  {
   "cell_type": "markdown",
   "id": "68de873a",
   "metadata": {},
   "source": [
    "# Cleaning the Dataset\n",
    "\n",
    "Now that the data is combined, you can proceed with cleaning by removing missing values and any irrelevant columns (if present)."
   ]
  },
  {
   "cell_type": "code",
   "execution_count": 4,
   "id": "5a600f27",
   "metadata": {},
   "outputs": [
    {
     "name": "stdout",
     "output_type": "stream",
     "text": [
      "title      0\n",
      "text       0\n",
      "subject    0\n",
      "date       0\n",
      "label      0\n",
      "dtype: int64\n",
      "                                                text    subject  label\n",
      "0  BERLIN (Reuters) - Germany has no evidence tha...  worldnews      0\n",
      "1  In the realm of the NBA, Spurs head coach Greg...   politics      1\n",
      "2  The Republican National Committee seems to be ...       News      1\n",
      "3  BRASILIA/CARACAS (Reuters) - Dismissed Venezue...  worldnews      0\n",
      "4  SYDNEY (Reuters) - More than 1,000 people prot...  worldnews      0\n"
     ]
    }
   ],
   "source": [
    "# Check for missing values\n",
    "print(df.isnull().sum())\n",
    "\n",
    "# Drop rows with missing values in the 'text' column\n",
    "df = df.dropna(subset=['text'])\n",
    "\n",
    "# If any unnecessary columns are present, you can drop them (e.g., 'title', 'date')\n",
    "if 'title' in df.columns:\n",
    "    df = df.drop(['title', 'date'], axis=1)\n",
    "\n",
    "# Final structure check\n",
    "print(df.head())"
   ]
  },
  {
   "cell_type": "markdown",
   "id": "6f2d2dfa",
   "metadata": {},
   "source": [
    "# Preprocessing the Text Data\n",
    "\n",
    "Next, you’ll preprocess the text data, including tokenization, normalization, and padding.\n",
    "\n",
    "## a. Preprocessing Text\n",
    "\n",
    "Normalize the text by removing punctuation, stopwords, and converting everything to lowercase."
   ]
  },
  {
   "cell_type": "code",
   "execution_count": 5,
   "id": "eb4cecde",
   "metadata": {},
   "outputs": [
    {
     "name": "stderr",
     "output_type": "stream",
     "text": [
      "[nltk_data] Downloading package stopwords to /Users/sora/nltk_data...\n",
      "[nltk_data]   Package stopwords is already up-to-date!\n"
     ]
    },
    {
     "name": "stdout",
     "output_type": "stream",
     "text": [
      "0    berlin reuters germany evidence saad alhariri ...\n",
      "1    realm nba spurs head coach gregg popovich one ...\n",
      "2    republican national committee seems crumbling ...\n",
      "3    brasiliacaracas reuters dismissed venezuelan p...\n",
      "4    sydney reuters 1000 people protested australia...\n",
      "Name: text, dtype: object\n"
     ]
    }
   ],
   "source": [
    "import string\n",
    "import nltk\n",
    "from nltk.corpus import stopwords\n",
    "\n",
    "nltk.download('stopwords')\n",
    "stop_words = set(stopwords.words('english'))\n",
    "\n",
    "# Preprocess the text: lowercase, remove punctuation and stopwords\n",
    "def preprocess_text(text):\n",
    "    text = text.lower()  # Convert to lowercase\n",
    "    text = ''.join([char for char in text if char not in string.punctuation])  # Remove punctuation\n",
    "    text = ' '.join([word for word in text.split() if word not in stop_words])  # Remove stopwords\n",
    "    return text\n",
    "\n",
    "# Apply preprocessing to the 'text' column\n",
    "df['text'] = df['text'].apply(preprocess_text)\n",
    "\n",
    "# Check an example after preprocessing\n",
    "print(df['text'].head())"
   ]
  },
  {
   "cell_type": "markdown",
   "id": "e8920a64",
   "metadata": {},
   "source": [
    "## b. Tokenization and Padding\n",
    "\n",
    "Tokenize the preprocessed text and pad the sequences to ensure all articles are of the same length for model training. "
   ]
  },
  {
   "cell_type": "code",
   "execution_count": 6,
   "id": "93f0693f",
   "metadata": {},
   "outputs": [
    {
     "name": "stdout",
     "output_type": "stream",
     "text": [
      "Padded sequences shape: (44898, 500)\n"
     ]
    }
   ],
   "source": [
    "from tensorflow.keras.preprocessing.text import Tokenizer\n",
    "from tensorflow.keras.preprocessing.sequence import pad_sequences\n",
    "\n",
    "# Define maximum vocabulary size and sequence length\n",
    "vocab_size = 10000\n",
    "maxlen = 500\n",
    "\n",
    "# Initialize the tokenizer and fit it on the combined text data\n",
    "tokenizer = Tokenizer(num_words=vocab_size)\n",
    "tokenizer.fit_on_texts(df['text'].values)\n",
    "\n",
    "# Convert the news articles to sequences of integers\n",
    "sequences = tokenizer.texts_to_sequences(df['text'].values)\n",
    "\n",
    "# Pad the sequences to ensure uniform length\n",
    "padded_sequences = pad_sequences(sequences, maxlen=maxlen)\n",
    "\n",
    "print(f\"Padded sequences shape: {padded_sequences.shape}\")"
   ]
  },
  {
   "cell_type": "markdown",
   "id": "dbd8db80",
   "metadata": {},
   "source": [
    "# Preparing the Labels\n",
    "\n",
    "You can extract the labels into a numpy array for model training. "
   ]
  },
  {
   "cell_type": "code",
   "execution_count": 7,
   "id": "26c9628b",
   "metadata": {},
   "outputs": [
    {
     "name": "stdout",
     "output_type": "stream",
     "text": [
      "Labels shape: (44898,)\n"
     ]
    }
   ],
   "source": [
    "import numpy as np\n",
    "\n",
    "# Convert labels to numpy array\n",
    "labels = df['label'].values\n",
    "print(f\"Labels shape: {labels.shape}\")"
   ]
  },
  {
   "cell_type": "markdown",
   "id": "241e605b",
   "metadata": {},
   "source": [
    "# Splitting the Dataset for Training and Testing\n",
    "\n",
    "Next, split the data into training and test sets to evaluate the model later. "
   ]
  },
  {
   "cell_type": "code",
   "execution_count": 8,
   "id": "9a94a124",
   "metadata": {},
   "outputs": [
    {
     "name": "stdout",
     "output_type": "stream",
     "text": [
      "Training data shape: (35918, 500), Training labels shape: (35918,)\n",
      "Test data shape: (8980, 500), Test labels shape: (8980,)\n"
     ]
    }
   ],
   "source": [
    "from sklearn.model_selection import train_test_split\n",
    "\n",
    "# Split the data into training and test sets\n",
    "x_train, x_test, y_train, y_test = train_test_split(padded_sequences, labels, test_size=0.2, random_state=42)\n",
    "\n",
    "# Check the shape of the training and test sets\n",
    "print(f\"Training data shape: {x_train.shape}, Training labels shape: {y_train.shape}\")\n",
    "print(f\"Test data shape: {x_test.shape}, Test labels shape: {y_test.shape}\")"
   ]
  },
  {
   "cell_type": "markdown",
   "id": "bc30d18f",
   "metadata": {},
   "source": [
    "# Saving the Preprocessed Dataset\n",
    "\n",
    "Finally, save the cleaned and preprocessed dataset for later use in model training."
   ]
  },
  {
   "cell_type": "code",
   "execution_count": 9,
   "id": "0847bd3d",
   "metadata": {},
   "outputs": [
    {
     "name": "stdout",
     "output_type": "stream",
     "text": [
      "Preprocessed Fake News Detection dataset saved.\n"
     ]
    }
   ],
   "source": [
    "import pickle\n",
    "\n",
    "# Save the preprocessed dataset as a binary file\n",
    "with open('fake_news_preprocessed_dataset.pkl', 'wb') as f:\n",
    "    pickle.dump((x_train, y_train, x_test, y_test), f)\n",
    "\n",
    "print(\"Preprocessed Fake News Detection dataset saved.\")"
   ]
  },
  {
   "cell_type": "markdown",
   "id": "f7e6e452",
   "metadata": {},
   "source": [
    "# Steps to Build and Train the Model\n",
    "\n",
    "## 1. Setting Up the Environment\n",
    "\n",
    "First, ensure that you have TensorFlow installed in your environment. If not, install it using:"
   ]
  },
  {
   "cell_type": "code",
   "execution_count": 10,
   "id": "2e65e177",
   "metadata": {
    "scrolled": true
   },
   "outputs": [
    {
     "name": "stdout",
     "output_type": "stream",
     "text": [
      "Requirement already satisfied: tensorflow in /Users/sora/anaconda3/lib/python3.11/site-packages (2.16.1)\n",
      "Requirement already satisfied: absl-py>=1.0.0 in /Users/sora/anaconda3/lib/python3.11/site-packages (from tensorflow) (2.1.0)\n",
      "Requirement already satisfied: astunparse>=1.6.0 in /Users/sora/anaconda3/lib/python3.11/site-packages (from tensorflow) (1.6.3)\n",
      "Requirement already satisfied: flatbuffers>=23.5.26 in /Users/sora/anaconda3/lib/python3.11/site-packages (from tensorflow) (24.3.25)\n",
      "Requirement already satisfied: gast!=0.5.0,!=0.5.1,!=0.5.2,>=0.2.1 in /Users/sora/anaconda3/lib/python3.11/site-packages (from tensorflow) (0.5.4)\n",
      "Requirement already satisfied: google-pasta>=0.1.1 in /Users/sora/anaconda3/lib/python3.11/site-packages (from tensorflow) (0.2.0)\n",
      "Requirement already satisfied: h5py>=3.10.0 in /Users/sora/anaconda3/lib/python3.11/site-packages (from tensorflow) (3.11.0)\n",
      "Requirement already satisfied: libclang>=13.0.0 in /Users/sora/anaconda3/lib/python3.11/site-packages (from tensorflow) (18.1.1)\n",
      "Requirement already satisfied: ml-dtypes~=0.3.1 in /Users/sora/anaconda3/lib/python3.11/site-packages (from tensorflow) (0.3.2)\n",
      "Requirement already satisfied: opt-einsum>=2.3.2 in /Users/sora/anaconda3/lib/python3.11/site-packages (from tensorflow) (3.3.0)\n",
      "Requirement already satisfied: packaging in /Users/sora/anaconda3/lib/python3.11/site-packages (from tensorflow) (23.1)\n",
      "Requirement already satisfied: protobuf!=4.21.0,!=4.21.1,!=4.21.2,!=4.21.3,!=4.21.4,!=4.21.5,<5.0.0dev,>=3.20.3 in /Users/sora/anaconda3/lib/python3.11/site-packages (from tensorflow) (4.25.3)\n",
      "Requirement already satisfied: requests<3,>=2.21.0 in /Users/sora/anaconda3/lib/python3.11/site-packages (from tensorflow) (2.31.0)\n",
      "Requirement already satisfied: setuptools in /Users/sora/anaconda3/lib/python3.11/site-packages (from tensorflow) (68.0.0)\n",
      "Requirement already satisfied: six>=1.12.0 in /Users/sora/anaconda3/lib/python3.11/site-packages (from tensorflow) (1.16.0)\n",
      "Requirement already satisfied: termcolor>=1.1.0 in /Users/sora/anaconda3/lib/python3.11/site-packages (from tensorflow) (2.4.0)\n",
      "Requirement already satisfied: typing-extensions>=3.6.6 in /Users/sora/anaconda3/lib/python3.11/site-packages (from tensorflow) (4.11.0)\n",
      "Requirement already satisfied: wrapt>=1.11.0 in /Users/sora/anaconda3/lib/python3.11/site-packages (from tensorflow) (1.14.1)\n",
      "Requirement already satisfied: grpcio<2.0,>=1.24.3 in /Users/sora/anaconda3/lib/python3.11/site-packages (from tensorflow) (1.63.0)\n",
      "Requirement already satisfied: tensorboard<2.17,>=2.16 in /Users/sora/anaconda3/lib/python3.11/site-packages (from tensorflow) (2.16.2)\n",
      "Requirement already satisfied: keras>=3.0.0 in /Users/sora/anaconda3/lib/python3.11/site-packages (from tensorflow) (3.2.1)\n",
      "Requirement already satisfied: tensorflow-io-gcs-filesystem>=0.23.1 in /Users/sora/anaconda3/lib/python3.11/site-packages (from tensorflow) (0.36.0)\n",
      "Requirement already satisfied: numpy<2.0.0,>=1.23.5 in /Users/sora/anaconda3/lib/python3.11/site-packages (from tensorflow) (1.24.3)\n",
      "Requirement already satisfied: wheel<1.0,>=0.23.0 in /Users/sora/anaconda3/lib/python3.11/site-packages (from astunparse>=1.6.0->tensorflow) (0.38.4)\n",
      "Requirement already satisfied: rich in /Users/sora/anaconda3/lib/python3.11/site-packages (from keras>=3.0.0->tensorflow) (13.7.1)\n",
      "Requirement already satisfied: namex in /Users/sora/anaconda3/lib/python3.11/site-packages (from keras>=3.0.0->tensorflow) (0.0.8)\n",
      "Requirement already satisfied: optree in /Users/sora/anaconda3/lib/python3.11/site-packages (from keras>=3.0.0->tensorflow) (0.11.0)\n",
      "Requirement already satisfied: charset-normalizer<4,>=2 in /Users/sora/anaconda3/lib/python3.11/site-packages (from requests<3,>=2.21.0->tensorflow) (3.3.2)\n",
      "Requirement already satisfied: idna<4,>=2.5 in /Users/sora/anaconda3/lib/python3.11/site-packages (from requests<3,>=2.21.0->tensorflow) (3.4)\n",
      "Requirement already satisfied: urllib3<3,>=1.21.1 in /Users/sora/anaconda3/lib/python3.11/site-packages (from requests<3,>=2.21.0->tensorflow) (1.26.16)\n",
      "Requirement already satisfied: certifi>=2017.4.17 in /Users/sora/anaconda3/lib/python3.11/site-packages (from requests<3,>=2.21.0->tensorflow) (2024.2.2)\n",
      "Requirement already satisfied: markdown>=2.6.8 in /Users/sora/anaconda3/lib/python3.11/site-packages (from tensorboard<2.17,>=2.16->tensorflow) (3.4.1)\n",
      "Requirement already satisfied: tensorboard-data-server<0.8.0,>=0.7.0 in /Users/sora/anaconda3/lib/python3.11/site-packages (from tensorboard<2.17,>=2.16->tensorflow) (0.7.2)\n",
      "Requirement already satisfied: werkzeug>=1.0.1 in /Users/sora/anaconda3/lib/python3.11/site-packages (from tensorboard<2.17,>=2.16->tensorflow) (3.0.2)\n",
      "Requirement already satisfied: MarkupSafe>=2.1.1 in /Users/sora/anaconda3/lib/python3.11/site-packages (from werkzeug>=1.0.1->tensorboard<2.17,>=2.16->tensorflow) (2.1.1)\n",
      "Requirement already satisfied: markdown-it-py>=2.2.0 in /Users/sora/anaconda3/lib/python3.11/site-packages (from rich->keras>=3.0.0->tensorflow) (2.2.0)\n",
      "Requirement already satisfied: pygments<3.0.0,>=2.13.0 in /Users/sora/anaconda3/lib/python3.11/site-packages (from rich->keras>=3.0.0->tensorflow) (2.15.1)\n",
      "Requirement already satisfied: mdurl~=0.1 in /Users/sora/anaconda3/lib/python3.11/site-packages (from markdown-it-py>=2.2.0->rich->keras>=3.0.0->tensorflow) (0.1.0)\n",
      "Note: you may need to restart the kernel to use updated packages.\n"
     ]
    }
   ],
   "source": [
    "pip install tensorflow"
   ]
  },
  {
   "cell_type": "markdown",
   "id": "a2e0a1f6",
   "metadata": {},
   "source": [
    "## 2. Model Architecture\n",
    "\n",
    "We will use an LSTM-based model since it works well with sequential data and can remember patterns in the text better than a basic RNN. The architecture will consist of:\n",
    "\n",
    "- Embedding Layer: Converts words into dense vectors.\n",
    "- LSTM Layer: Learns from sequential dependencies in the text.\n",
    "- Dense Layers: Used to classify the output as fake or real."
   ]
  },
  {
   "cell_type": "code",
   "execution_count": 11,
   "id": "f2c6b248",
   "metadata": {},
   "outputs": [
    {
     "name": "stdout",
     "output_type": "stream",
     "text": [
      "Preprocessed Fake News Detection dataset loaded.\n"
     ]
    }
   ],
   "source": [
    "# Load the preprocessed dataset from the binary file\n",
    "with open('fake_news_preprocessed_dataset.pkl', 'rb') as f:\n",
    "    x_train, y_train, x_test, y_test = pickle.load(f)\n",
    "\n",
    "print(\"Preprocessed Fake News Detection dataset loaded.\")"
   ]
  },
  {
   "cell_type": "code",
   "execution_count": 12,
   "id": "1d3660b4",
   "metadata": {
    "scrolled": false
   },
   "outputs": [
    {
     "data": {
      "text/html": [
       "<pre style=\"white-space:pre;overflow-x:auto;line-height:normal;font-family:Menlo,'DejaVu Sans Mono',consolas,'Courier New',monospace\"><span style=\"font-weight: bold\">Model: \"sequential\"</span>\n",
       "</pre>\n"
      ],
      "text/plain": [
       "\u001b[1mModel: \"sequential\"\u001b[0m\n"
      ]
     },
     "metadata": {},
     "output_type": "display_data"
    },
    {
     "data": {
      "text/html": [
       "<pre style=\"white-space:pre;overflow-x:auto;line-height:normal;font-family:Menlo,'DejaVu Sans Mono',consolas,'Courier New',monospace\">┏━━━━━━━━━━━━━━━━━━━━━━━━━━━━━━━━━┳━━━━━━━━━━━━━━━━━━━━━━━━┳━━━━━━━━━━━━━━━┓\n",
       "┃<span style=\"font-weight: bold\"> Layer (type)                    </span>┃<span style=\"font-weight: bold\"> Output Shape           </span>┃<span style=\"font-weight: bold\">       Param # </span>┃\n",
       "┡━━━━━━━━━━━━━━━━━━━━━━━━━━━━━━━━━╇━━━━━━━━━━━━━━━━━━━━━━━━╇━━━━━━━━━━━━━━━┩\n",
       "│ embedding (<span style=\"color: #0087ff; text-decoration-color: #0087ff\">Embedding</span>)           │ (<span style=\"color: #00af00; text-decoration-color: #00af00\">1</span>, <span style=\"color: #00af00; text-decoration-color: #00af00\">500</span>, <span style=\"color: #00af00; text-decoration-color: #00af00\">128</span>)          │     <span style=\"color: #00af00; text-decoration-color: #00af00\">1,280,000</span> │\n",
       "├─────────────────────────────────┼────────────────────────┼───────────────┤\n",
       "│ lstm (<span style=\"color: #0087ff; text-decoration-color: #0087ff\">LSTM</span>)                     │ (<span style=\"color: #00af00; text-decoration-color: #00af00\">1</span>, <span style=\"color: #00af00; text-decoration-color: #00af00\">128</span>)               │       <span style=\"color: #00af00; text-decoration-color: #00af00\">131,584</span> │\n",
       "├─────────────────────────────────┼────────────────────────┼───────────────┤\n",
       "│ dropout (<span style=\"color: #0087ff; text-decoration-color: #0087ff\">Dropout</span>)               │ (<span style=\"color: #00af00; text-decoration-color: #00af00\">1</span>, <span style=\"color: #00af00; text-decoration-color: #00af00\">128</span>)               │             <span style=\"color: #00af00; text-decoration-color: #00af00\">0</span> │\n",
       "├─────────────────────────────────┼────────────────────────┼───────────────┤\n",
       "│ dense (<span style=\"color: #0087ff; text-decoration-color: #0087ff\">Dense</span>)                   │ (<span style=\"color: #00af00; text-decoration-color: #00af00\">1</span>, <span style=\"color: #00af00; text-decoration-color: #00af00\">1</span>)                 │           <span style=\"color: #00af00; text-decoration-color: #00af00\">129</span> │\n",
       "└─────────────────────────────────┴────────────────────────┴───────────────┘\n",
       "</pre>\n"
      ],
      "text/plain": [
       "┏━━━━━━━━━━━━━━━━━━━━━━━━━━━━━━━━━┳━━━━━━━━━━━━━━━━━━━━━━━━┳━━━━━━━━━━━━━━━┓\n",
       "┃\u001b[1m \u001b[0m\u001b[1mLayer (type)                   \u001b[0m\u001b[1m \u001b[0m┃\u001b[1m \u001b[0m\u001b[1mOutput Shape          \u001b[0m\u001b[1m \u001b[0m┃\u001b[1m \u001b[0m\u001b[1m      Param #\u001b[0m\u001b[1m \u001b[0m┃\n",
       "┡━━━━━━━━━━━━━━━━━━━━━━━━━━━━━━━━━╇━━━━━━━━━━━━━━━━━━━━━━━━╇━━━━━━━━━━━━━━━┩\n",
       "│ embedding (\u001b[38;5;33mEmbedding\u001b[0m)           │ (\u001b[38;5;34m1\u001b[0m, \u001b[38;5;34m500\u001b[0m, \u001b[38;5;34m128\u001b[0m)          │     \u001b[38;5;34m1,280,000\u001b[0m │\n",
       "├─────────────────────────────────┼────────────────────────┼───────────────┤\n",
       "│ lstm (\u001b[38;5;33mLSTM\u001b[0m)                     │ (\u001b[38;5;34m1\u001b[0m, \u001b[38;5;34m128\u001b[0m)               │       \u001b[38;5;34m131,584\u001b[0m │\n",
       "├─────────────────────────────────┼────────────────────────┼───────────────┤\n",
       "│ dropout (\u001b[38;5;33mDropout\u001b[0m)               │ (\u001b[38;5;34m1\u001b[0m, \u001b[38;5;34m128\u001b[0m)               │             \u001b[38;5;34m0\u001b[0m │\n",
       "├─────────────────────────────────┼────────────────────────┼───────────────┤\n",
       "│ dense (\u001b[38;5;33mDense\u001b[0m)                   │ (\u001b[38;5;34m1\u001b[0m, \u001b[38;5;34m1\u001b[0m)                 │           \u001b[38;5;34m129\u001b[0m │\n",
       "└─────────────────────────────────┴────────────────────────┴───────────────┘\n"
      ]
     },
     "metadata": {},
     "output_type": "display_data"
    },
    {
     "data": {
      "text/html": [
       "<pre style=\"white-space:pre;overflow-x:auto;line-height:normal;font-family:Menlo,'DejaVu Sans Mono',consolas,'Courier New',monospace\"><span style=\"font-weight: bold\"> Total params: </span><span style=\"color: #00af00; text-decoration-color: #00af00\">1,411,713</span> (5.39 MB)\n",
       "</pre>\n"
      ],
      "text/plain": [
       "\u001b[1m Total params: \u001b[0m\u001b[38;5;34m1,411,713\u001b[0m (5.39 MB)\n"
      ]
     },
     "metadata": {},
     "output_type": "display_data"
    },
    {
     "data": {
      "text/html": [
       "<pre style=\"white-space:pre;overflow-x:auto;line-height:normal;font-family:Menlo,'DejaVu Sans Mono',consolas,'Courier New',monospace\"><span style=\"font-weight: bold\"> Trainable params: </span><span style=\"color: #00af00; text-decoration-color: #00af00\">1,411,713</span> (5.39 MB)\n",
       "</pre>\n"
      ],
      "text/plain": [
       "\u001b[1m Trainable params: \u001b[0m\u001b[38;5;34m1,411,713\u001b[0m (5.39 MB)\n"
      ]
     },
     "metadata": {},
     "output_type": "display_data"
    },
    {
     "data": {
      "text/html": [
       "<pre style=\"white-space:pre;overflow-x:auto;line-height:normal;font-family:Menlo,'DejaVu Sans Mono',consolas,'Courier New',monospace\"><span style=\"font-weight: bold\"> Non-trainable params: </span><span style=\"color: #00af00; text-decoration-color: #00af00\">0</span> (0.00 B)\n",
       "</pre>\n"
      ],
      "text/plain": [
       "\u001b[1m Non-trainable params: \u001b[0m\u001b[38;5;34m0\u001b[0m (0.00 B)\n"
      ]
     },
     "metadata": {},
     "output_type": "display_data"
    }
   ],
   "source": [
    "import tensorflow as tf\n",
    "from tensorflow.keras.models import Sequential\n",
    "from tensorflow.keras.layers import Embedding, LSTM, Dense, Dropout\n",
    "from tensorflow.keras.optimizers import Adam\n",
    "\n",
    "# Define model parameters\n",
    "vocab_size = 10000  # Vocabulary size\n",
    "embedding_dim = 128  # Embedding dimension\n",
    "maxlen = 500  # Maximum length of input sequences\n",
    "\n",
    "# Building the Sequential model\n",
    "model = Sequential()\n",
    "\n",
    "# Embedding layer: Convert words into dense vectors\n",
    "model.add(Embedding(input_dim=vocab_size, output_dim=embedding_dim, input_length=maxlen))\n",
    "\n",
    "# LSTM layer: Learns sequential dependencies in text\n",
    "model.add(LSTM(units=128))\n",
    "\n",
    "# Dropout layer: Helps prevent overfitting\n",
    "model.add(Dropout(0.5))\n",
    "\n",
    "# Dense layer: Output layer with sigmoid activation for binary classification (fake = 1, real = 0)\n",
    "model.add(Dense(1, activation='sigmoid'))\n",
    "\n",
    "# Compile the model: binary crossentropy for binary classification\n",
    "model.compile(optimizer=Adam(learning_rate=0.001), loss='binary_crossentropy', metrics=['accuracy'])\n",
    "\n",
    "# Create a dummy input to force the model to build (generate random integers in the range of [0, vocab_size-1])\n",
    "dummy_input = tf.random.uniform((1, maxlen), minval=0, maxval=vocab_size, dtype=tf.int32)  # Add maxval here\n",
    "\n",
    "# Pass the dummy input to the model to initialize it\n",
    "model(dummy_input)\n",
    "\n",
    "# Now, print the model summary\n",
    "model.summary()"
   ]
  },
  {
   "cell_type": "code",
   "execution_count": 13,
   "id": "697b3eac",
   "metadata": {},
   "outputs": [
    {
     "name": "stdout",
     "output_type": "stream",
     "text": [
      "Epoch 1/5\n",
      "\u001b[1m562/562\u001b[0m \u001b[32m━━━━━━━━━━━━━━━━━━━━\u001b[0m\u001b[37m\u001b[0m \u001b[1m305s\u001b[0m 542ms/step - accuracy: 0.9153 - loss: 0.2084 - val_accuracy: 0.9932 - val_loss: 0.0233\n",
      "Epoch 2/5\n",
      "\u001b[1m562/562\u001b[0m \u001b[32m━━━━━━━━━━━━━━━━━━━━\u001b[0m\u001b[37m\u001b[0m \u001b[1m305s\u001b[0m 542ms/step - accuracy: 0.9940 - loss: 0.0185 - val_accuracy: 0.9943 - val_loss: 0.0237\n",
      "Epoch 3/5\n",
      "\u001b[1m562/562\u001b[0m \u001b[32m━━━━━━━━━━━━━━━━━━━━\u001b[0m\u001b[37m\u001b[0m \u001b[1m298s\u001b[0m 530ms/step - accuracy: 0.9872 - loss: 0.0397 - val_accuracy: 0.9938 - val_loss: 0.0206\n",
      "Epoch 4/5\n",
      "\u001b[1m562/562\u001b[0m \u001b[32m━━━━━━━━━━━━━━━━━━━━\u001b[0m\u001b[37m\u001b[0m \u001b[1m310s\u001b[0m 551ms/step - accuracy: 0.9954 - loss: 0.0169 - val_accuracy: 0.9906 - val_loss: 0.0335\n",
      "Epoch 5/5\n",
      "\u001b[1m562/562\u001b[0m \u001b[32m━━━━━━━━━━━━━━━━━━━━\u001b[0m\u001b[37m\u001b[0m \u001b[1m303s\u001b[0m 540ms/step - accuracy: 0.9959 - loss: 0.0154 - val_accuracy: 0.9961 - val_loss: 0.0169\n"
     ]
    },
    {
     "name": "stderr",
     "output_type": "stream",
     "text": [
      "WARNING:absl:You are saving your model as an HDF5 file via `model.save()` or `keras.saving.save_model(model)`. This file format is considered legacy. We recommend using instead the native Keras format, e.g. `model.save('my_model.keras')` or `keras.saving.save_model(model, 'my_model.keras')`. \n"
     ]
    }
   ],
   "source": [
    "# Set hyperparameters\n",
    "epochs = 5  # Number of times the model will see the entire dataset\n",
    "batch_size = 64  # Number of samples to process before updating the model\n",
    "\n",
    "# Train the model\n",
    "history = model.fit(x_train, y_train, validation_data=(x_test, y_test), epochs=epochs, batch_size=batch_size)\n",
    "\n",
    "# Save the trained model\n",
    "model.save(\"fake_news_detection_model.h5\")"
   ]
  },
  {
   "cell_type": "code",
   "execution_count": 14,
   "id": "cae2c5ce",
   "metadata": {},
   "outputs": [
    {
     "name": "stdout",
     "output_type": "stream",
     "text": [
      "\u001b[1m281/281\u001b[0m \u001b[32m━━━━━━━━━━━━━━━━━━━━\u001b[0m\u001b[37m\u001b[0m \u001b[1m32s\u001b[0m 113ms/step - accuracy: 0.9961 - loss: 0.0141\n",
      "Test Accuracy: 0.9961\n",
      "\u001b[1m281/281\u001b[0m \u001b[32m━━━━━━━━━━━━━━━━━━━━\u001b[0m\u001b[37m\u001b[0m \u001b[1m37s\u001b[0m 132ms/step\n",
      "Precision: 0.9989\n",
      "Recall: 0.9936\n"
     ]
    }
   ],
   "source": [
    "from sklearn.metrics import precision_score, recall_score\n",
    "\n",
    "# Evaluate the model on the test set to get loss and accuracy\n",
    "test_loss, test_acc = model.evaluate(x_test, y_test)\n",
    "print(f\"Test Accuracy: {test_acc:.4f}\")\n",
    "\n",
    "# Predict class probabilities\n",
    "y_pred_prob = model.predict(x_test)\n",
    "\n",
    "# Convert probabilities to binary class labels with a threshold of 0.5\n",
    "y_pred = (y_pred_prob > 0.5).astype(\"int32\")\n",
    "\n",
    "# Calculate precision and recall\n",
    "precision = precision_score(y_test, y_pred)\n",
    "recall = recall_score(y_test, y_pred)\n",
    "\n",
    "print(f\"Precision: {precision:.4f}\")\n",
    "print(f\"Recall: {recall:.4f}\")"
   ]
  },
  {
   "cell_type": "code",
   "execution_count": 15,
   "id": "41c9927a",
   "metadata": {},
   "outputs": [
    {
     "data": {
      "image/png": "[encoded data removed]",
      "text/plain": [
       "<Figure size 640x480 with 1 Axes>"
      ]
     },
     "metadata": {},
     "output_type": "display_data"
    },
    {
     "data": {
      "image/png": "[encoded data removed]",
      "text/plain": [
       "<Figure size 640x480 with 1 Axes>"
      ]
     },
     "metadata": {},
     "output_type": "display_data"
    }
   ],
   "source": [
    "import matplotlib.pyplot as plt\n",
    "\n",
    "# Plot training & validation accuracy values\n",
    "plt.plot(history.history['accuracy'])\n",
    "plt.plot(history.history['val_accuracy'])\n",
    "plt.title('Model accuracy')\n",
    "plt.ylabel('Accuracy')\n",
    "plt.xlabel('Epoch')\n",
    "plt.legend(['Train', 'Test'], loc='upper left')\n",
    "plt.show()\n",
    "\n",
    "# Plot training & validation loss values\n",
    "plt.plot(history.history['loss'])\n",
    "plt.plot(history.history['val_loss'])\n",
    "plt.title('Model loss')\n",
    "plt.ylabel('Loss')\n",
    "plt.xlabel('Epoch')\n",
    "plt.legend(['Train', 'Test'], loc='upper left')\n",
    "plt.show()"
   ]
  },
  {
   "cell_type": "code",
   "execution_count": 16,
   "id": "a8c3b215",
   "metadata": {
    "scrolled": true
   },
   "outputs": [
    {
     "name": "stdout",
     "output_type": "stream",
     "text": [
      "Training with LSTM units=128, Dropout=0.3, Batch Size=32, Learning Rate=0.001, Epochs=3\n",
      "Epoch 1/3\n",
      "\u001b[1m1123/1123\u001b[0m \u001b[32m━━━━━━━━━━━━━━━━━━━━\u001b[0m\u001b[37m\u001b[0m \u001b[1m462s\u001b[0m 410ms/step - accuracy: 0.9270 - loss: 0.2059 - val_accuracy: 0.9911 - val_loss: 0.0310\n",
      "Epoch 2/3\n",
      "\u001b[1m1123/1123\u001b[0m \u001b[32m━━━━━━━━━━━━━━━━━━━━\u001b[0m\u001b[37m\u001b[0m \u001b[1m2302s\u001b[0m 2s/step - accuracy: 0.9791 - loss: 0.0606 - val_accuracy: 0.9945 - val_loss: 0.0234\n",
      "Epoch 3/3\n",
      "\u001b[1m1123/1123\u001b[0m \u001b[32m━━━━━━━━━━━━━━━━━━━━\u001b[0m\u001b[37m\u001b[0m \u001b[1m2790s\u001b[0m 2s/step - accuracy: 0.9952 - loss: 0.0176 - val_accuracy: 0.9918 - val_loss: 0.0290\n",
      "New Best Model Found: Validation Accuracy = 0.9945\n",
      "Best Hyperparameters: {'LSTM units': 128, 'Dropout': 0.3, 'Batch Size': 32, 'Learning Rate': 0.001, 'Epochs': 3}\n",
      "Training with LSTM units=128, Dropout=0.3, Batch Size=64, Learning Rate=0.001, Epochs=3\n",
      "Epoch 1/3\n",
      "\u001b[1m562/562\u001b[0m \u001b[32m━━━━━━━━━━━━━━━━━━━━\u001b[0m\u001b[37m\u001b[0m \u001b[1m296s\u001b[0m 525ms/step - accuracy: 0.9242 - loss: 0.2041 - val_accuracy: 0.9686 - val_loss: 0.0973\n",
      "Epoch 2/3\n",
      "\u001b[1m562/562\u001b[0m \u001b[32m━━━━━━━━━━━━━━━━━━━━\u001b[0m\u001b[37m\u001b[0m \u001b[1m307s\u001b[0m 545ms/step - accuracy: 0.9802 - loss: 0.0626 - val_accuracy: 0.9806 - val_loss: 0.0690\n",
      "Training with LSTM units=128, Dropout=0.5, Batch Size=32, Learning Rate=0.001, Epochs=3\n",
      "Epoch 1/3\n",
      "\u001b[1m1123/1123\u001b[0m \u001b[32m━━━━━━━━━━━━━━━━━━━━\u001b[0m\u001b[37m\u001b[0m \u001b[1m452s\u001b[0m 402ms/step - accuracy: 0.9224 - loss: 0.1922 - val_accuracy: 0.9920 - val_loss: 0.0286\n",
      "Epoch 2/3\n",
      "\u001b[1m1123/1123\u001b[0m \u001b[32m━━━━━━━━━━━━━━━━━━━━\u001b[0m\u001b[37m\u001b[0m \u001b[1m463s\u001b[0m 413ms/step - accuracy: 0.9835 - loss: 0.0515 - val_accuracy: 0.9892 - val_loss: 0.0427\n",
      "Training with LSTM units=128, Dropout=0.5, Batch Size=64, Learning Rate=0.001, Epochs=3\n",
      "Epoch 1/3\n",
      "\u001b[1m562/562\u001b[0m \u001b[32m━━━━━━━━━━━━━━━━━━━━\u001b[0m\u001b[37m\u001b[0m \u001b[1m295s\u001b[0m 523ms/step - accuracy: 0.9081 - loss: 0.2276 - val_accuracy: 0.9857 - val_loss: 0.0499\n",
      "Epoch 2/3\n",
      "\u001b[1m562/562\u001b[0m \u001b[32m━━━━━━━━━━━━━━━━━━━━\u001b[0m\u001b[37m\u001b[0m \u001b[1m295s\u001b[0m 524ms/step - accuracy: 0.9929 - loss: 0.0268 - val_accuracy: 0.9914 - val_loss: 0.0313\n",
      "Training with LSTM units=256, Dropout=0.3, Batch Size=32, Learning Rate=0.001, Epochs=3\n",
      "Epoch 1/3\n",
      "\u001b[1m1123/1123\u001b[0m \u001b[32m━━━━━━━━━━━━━━━━━━━━\u001b[0m\u001b[37m\u001b[0m \u001b[1m904s\u001b[0m 804ms/step - accuracy: 0.8773 - loss: 0.3529 - val_accuracy: 0.9879 - val_loss: 0.0467\n",
      "Epoch 2/3\n",
      "\u001b[1m1123/1123\u001b[0m \u001b[32m━━━━━━━━━━━━━━━━━━━━\u001b[0m\u001b[37m\u001b[0m \u001b[1m798s\u001b[0m 710ms/step - accuracy: 0.9747 - loss: 0.0733 - val_accuracy: 0.9925 - val_loss: 0.0258\n",
      "Training with LSTM units=256, Dropout=0.3, Batch Size=64, Learning Rate=0.001, Epochs=3\n",
      "Epoch 1/3\n",
      "\u001b[1m562/562\u001b[0m \u001b[32m━━━━━━━━━━━━━━━━━━━━\u001b[0m\u001b[37m\u001b[0m \u001b[1m558s\u001b[0m 992ms/step - accuracy: 0.9107 - loss: 0.2416 - val_accuracy: 0.9700 - val_loss: 0.0875\n",
      "Epoch 2/3\n",
      "\u001b[1m562/562\u001b[0m \u001b[32m━━━━━━━━━━━━━━━━━━━━\u001b[0m\u001b[37m\u001b[0m \u001b[1m607s\u001b[0m 1s/step - accuracy: 0.9784 - loss: 0.0672 - val_accuracy: 0.9385 - val_loss: 0.1966\n",
      "Training with LSTM units=256, Dropout=0.5, Batch Size=32, Learning Rate=0.001, Epochs=3\n",
      "Epoch 1/3\n",
      "\u001b[1m1123/1123\u001b[0m \u001b[32m━━━━━━━━━━━━━━━━━━━━\u001b[0m\u001b[37m\u001b[0m \u001b[1m649s\u001b[0m 577ms/step - accuracy: 0.9231 - loss: 0.1826 - val_accuracy: 0.9835 - val_loss: 0.0530\n",
      "Epoch 2/3\n",
      "\u001b[1m1123/1123\u001b[0m \u001b[32m━━━━━━━━━━━━━━━━━━━━\u001b[0m\u001b[37m\u001b[0m \u001b[1m695s\u001b[0m 619ms/step - accuracy: 0.9901 - loss: 0.0342 - val_accuracy: 0.9938 - val_loss: 0.0241\n",
      "Training with LSTM units=256, Dropout=0.5, Batch Size=64, Learning Rate=0.001, Epochs=3\n",
      "Epoch 1/3\n",
      "\u001b[1m562/562\u001b[0m \u001b[32m━━━━━━━━━━━━━━━━━━━━\u001b[0m\u001b[37m\u001b[0m \u001b[1m520s\u001b[0m 925ms/step - accuracy: 0.8829 - loss: 0.3256 - val_accuracy: 0.9899 - val_loss: 0.0340\n",
      "Epoch 2/3\n",
      "\u001b[1m562/562\u001b[0m \u001b[32m━━━━━━━━━━━━━━━━━━━━\u001b[0m\u001b[37m\u001b[0m \u001b[1m541s\u001b[0m 962ms/step - accuracy: 0.9740 - loss: 0.0820 - val_accuracy: 0.9744 - val_loss: 0.0719\n",
      "Best Validation Accuracy: 0.9945434331893921\n",
      "Best Hyperparameters: {'LSTM units': 128, 'Dropout': 0.3, 'Batch Size': 32, 'Learning Rate': 0.001, 'Epochs': 3}\n"
     ]
    }
   ],
   "source": [
    "import tensorflow as tf\n",
    "from tensorflow.keras.models import Sequential\n",
    "from tensorflow.keras.layers import Embedding, LSTM, Dense, Dropout\n",
    "from tensorflow.keras.optimizers import Adam\n",
    "from tensorflow.keras.callbacks import EarlyStopping\n",
    "# Define model parameters\n",
    "vocab_size = 10000  # Vocabulary size\n",
    "embedding_dim = 128  # Embedding dimension\n",
    "maxlen = 500  # Maximum length of input sequences\n",
    "\n",
    "# Hyperparameter grid (reduced search space)\n",
    "lstm_units_list = [128, 256]  # Two values for LSTM units\n",
    "dropout_rates = [0.3, 0.5]  # Two values for dropout rates\n",
    "batch_sizes = [32, 64]  # Two values for batch sizes\n",
    "learning_rates = [0.001]  # Single value for learning rate\n",
    "epochs = [3]  # Reduce epochs to 3 during tuning\n",
    "\n",
    "best_accuracy = 0\n",
    "best_hyperparams = {}\n",
    "\n",
    "# Early stopping to avoid long training on poor-performing models\n",
    "early_stopping = EarlyStopping(monitor='val_loss', patience=1, restore_best_weights=True)\n",
    "\n",
    "# Experiment with combinations of hyperparameters (fewer combinations now)\n",
    "for lstm_units in lstm_units_list:\n",
    "    for dropout_rate in dropout_rates:\n",
    "        for batch_size in batch_sizes:\n",
    "            for lr in learning_rates:\n",
    "                for epoch in epochs:\n",
    "                    print(f\"Training with LSTM units={lstm_units}, Dropout={dropout_rate}, \"\n",
    "                          f\"Batch Size={batch_size}, Learning Rate={lr}, Epochs={epoch}\")\n",
    "                    \n",
    "                    # Build the model\n",
    "                    model = Sequential()\n",
    "                    model.add(Embedding(input_dim=vocab_size, output_dim=embedding_dim, input_length=maxlen))\n",
    "                    model.add(LSTM(units=lstm_units))\n",
    "                    model.add(Dropout(dropout_rate))\n",
    "                    model.add(Dense(1, activation='sigmoid'))\n",
    "                    \n",
    "                    # Compile the model with the current learning rate\n",
    "                    model.compile(optimizer=Adam(learning_rate=lr), loss='binary_crossentropy', metrics=['accuracy'])\n",
    "                    \n",
    "                    # Train the model\n",
    "                    history = model.fit(x_train, y_train, epochs=epoch, batch_size=batch_size, \n",
    "                                        validation_data=(x_test, y_test), callbacks=[early_stopping], verbose=1)\n",
    "                    \n",
    "                    # Get validation accuracy\n",
    "                    val_accuracy = max(history.history['val_accuracy'])\n",
    "                    \n",
    "                    # Update the best hyperparameters if performance improves\n",
    "                    if val_accuracy > best_accuracy:\n",
    "                        best_accuracy = val_accuracy\n",
    "                        best_hyperparams = {\n",
    "                            'LSTM units': lstm_units,\n",
    "                            'Dropout': dropout_rate,\n",
    "                            'Batch Size': batch_size,\n",
    "                            'Learning Rate': lr,\n",
    "                            'Epochs': epoch\n",
    "                        }\n",
    "                        \n",
    "                        print(f\"New Best Model Found: Validation Accuracy = {val_accuracy:.4f}\")\n",
    "                        print(f\"Best Hyperparameters: {best_hyperparams}\")\n",
    "\n",
    "# After tuning, print out the best hyperparameters\n",
    "print(f\"Best Validation Accuracy: {best_accuracy}\")\n",
    "print(f\"Best Hyperparameters: {best_hyperparams}\")"
   ]
  },
  {
   "cell_type": "code",
   "execution_count": 19,
   "id": "d059c87a",
   "metadata": {},
   "outputs": [
    {
     "name": "stdout",
     "output_type": "stream",
     "text": [
      "Epoch 1/3\n",
      "\u001b[1m1123/1123\u001b[0m \u001b[32m━━━━━━━━━━━━━━━━━━━━\u001b[0m\u001b[37m\u001b[0m \u001b[1m359s\u001b[0m 319ms/step - accuracy: 0.9319 - loss: 0.1617 - val_accuracy: 0.9729 - val_loss: 0.0893\n",
      "Epoch 2/3\n",
      "\u001b[1m1123/1123\u001b[0m \u001b[32m━━━━━━━━━━━━━━━━━━━━\u001b[0m\u001b[37m\u001b[0m \u001b[1m364s\u001b[0m 324ms/step - accuracy: 0.9865 - loss: 0.0443 - val_accuracy: 0.9964 - val_loss: 0.0149\n",
      "Epoch 3/3\n",
      "\u001b[1m1123/1123\u001b[0m \u001b[32m━━━━━━━━━━━━━━━━━━━━\u001b[0m\u001b[37m\u001b[0m \u001b[1m348s\u001b[0m 310ms/step - accuracy: 0.9981 - loss: 0.0085 - val_accuracy: 0.9955 - val_loss: 0.0151\n"
     ]
    }
   ],
   "source": [
    "# Re-train the model using the best hyperparameters\n",
    "best_model = Sequential()\n",
    "best_model.add(Embedding(input_dim=vocab_size, output_dim=embedding_dim, input_length=maxlen))\n",
    "best_model.add(LSTM(units=best_hyperparams['LSTM units']))\n",
    "best_model.add(Dropout(best_hyperparams['Dropout']))\n",
    "best_model.add(Dense(1, activation='sigmoid'))\n",
    "\n",
    "# Compile the model with the best learning rate\n",
    "best_model.compile(optimizer=Adam(learning_rate=best_hyperparams['Learning Rate']), \n",
    "                   loss='binary_crossentropy', metrics=['accuracy'])\n",
    "\n",
    "# Train the model on the full dataset using the best number of epochs and batch size\n",
    "history = best_model.fit(x_train, y_train, epochs=best_hyperparams['Epochs'], \n",
    "                         batch_size=best_hyperparams['Batch Size'], \n",
    "                         validation_data=(x_test, y_test), verbose=1)"
   ]
  },
  {
   "cell_type": "code",
   "execution_count": 20,
   "id": "233af53e",
   "metadata": {},
   "outputs": [
    {
     "name": "stdout",
     "output_type": "stream",
     "text": [
      "\u001b[1m281/281\u001b[0m \u001b[32m━━━━━━━━━━━━━━━━━━━━\u001b[0m\u001b[37m\u001b[0m \u001b[1m23s\u001b[0m 81ms/step - accuracy: 0.9954 - loss: 0.0158\n",
      "Test Accuracy: 0.9955\n",
      "\u001b[1m281/281\u001b[0m \u001b[32m━━━━━━━━━━━━━━━━━━━━\u001b[0m\u001b[37m\u001b[0m \u001b[1m23s\u001b[0m 81ms/step\n",
      "Precision: 0.9955\n",
      "Recall: 0.9959\n",
      "F1 Score: 0.9957\n"
     ]
    }
   ],
   "source": [
    "# Evaluate the model on the test set\n",
    "test_loss, test_acc = best_model.evaluate(x_test, y_test)\n",
    "print(f\"Test Accuracy: {test_acc:.4f}\")\n",
    "\n",
    "# Predict on the test set and calculate precision and recall\n",
    "from sklearn.metrics import precision_score, recall_score, f1_score\n",
    "\n",
    "y_pred_prob = best_model.predict(x_test)\n",
    "y_pred = (y_pred_prob > 0.5).astype(\"int32\")\n",
    "\n",
    "# Calculate precision, recall, and F1-score\n",
    "precision = precision_score(y_test, y_pred)\n",
    "recall = recall_score(y_test, y_pred)\n",
    "f1 = f1_score(y_test, y_pred)\n",
    "\n",
    "print(f\"Precision: {precision:.4f}\")\n",
    "print(f\"Recall: {recall:.4f}\")\n",
    "print(f\"F1 Score: {f1:.4f}\")"
   ]
  },
  {
   "cell_type": "markdown",
   "id": "455a5676",
   "metadata": {},
   "source": [
    "# Conclusion\n",
    "\n",
    "This project successfully implemented a Fake News Detection model using deep learning, specifically employing an LSTM-based recurrent neural network. Starting from comprehensive data preprocessing, including text cleaning, tokenization, and padding, the project created a robust foundation for model training. Through hyperparameter tuning, the model’s architecture and training parameters were optimized, resulting in a configuration that balances accuracy and generalization.\n",
    "\n",
    "The final model achieved commendable accuracy and reliable metrics on the test dataset, with solid precision and recall values, making it effective in identifying misleading information. This model can serve as a valuable tool for content platforms, social media, and news aggregators to detect and mitigate the spread of misinformation. Future work could further improve this model by exploring advanced architectures like Transformer-based models, fine-tuning on domain-specific datasets, or even integrating a real-time feedback loop."
   ]
  },
  {
   "cell_type": "code",
   "execution_count": null,
   "id": "a9196e0e",
   "metadata": {},
   "outputs": [],
   "source": []
  }
 ],
 "metadata": {
  "kernelspec": {
   "display_name": "Python 3 (ipykernel)",
   "language": "python",
   "name": "python3"
  },
  "language_info": {
   "codemirror_mode": {
    "name": "ipython",
    "version": 3
   },
   "file_extension": ".py",
   "mimetype": "text/x-python",
   "name": "python",
   "nbconvert_exporter": "python",
   "pygments_lexer": "ipython3",
   "version": "3.11.5"
  }
 },
 "nbformat": 4,
 "nbformat_minor": 5
}
