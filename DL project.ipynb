{
 "cells": [
  {
   "cell_type": "markdown",
   "id": "8e47520d",
   "metadata": {},
   "source": [
    "# FAKE NEWS DETECTION USING RNN"
   ]
  },
  {
   "cell_type": "markdown",
   "id": "073c0991",
   "metadata": {},
   "source": [
    "# Loading the Datasets\n",
    "\n",
    "You need to load both CSV files and label them appropriately (e.g., 1 for fake news and 0 for real news)."
   ]
  },
  {
   "cell_type": "code",
   "execution_count": 2,
   "id": "d9f025c0",
   "metadata": {},
   "outputs": [
    {
     "name": "stdout",
     "output_type": "stream",
     "text": [
      "                                               title  \\\n",
      "0   Donald Trump Sends Out Embarrassing New Year’...   \n",
      "1   Drunk Bragging Trump Staffer Started Russian ...   \n",
      "2   Sheriff David Clarke Becomes An Internet Joke...   \n",
      "3   Trump Is So Obsessed He Even Has Obama’s Name...   \n",
      "4   Pope Francis Just Called Out Donald Trump Dur...   \n",
      "\n",
      "                                                text subject  \\\n",
      "0  Donald Trump just couldn t wish all Americans ...    News   \n",
      "1  House Intelligence Committee Chairman Devin Nu...    News   \n",
      "2  On Friday, it was revealed that former Milwauk...    News   \n",
      "3  On Christmas day, Donald Trump announced that ...    News   \n",
      "4  Pope Francis used his annual Christmas Day mes...    News   \n",
      "\n",
      "                date  \n",
      "0  December 31, 2017  \n",
      "1  December 31, 2017  \n",
      "2  December 30, 2017  \n",
      "3  December 29, 2017  \n",
      "4  December 25, 2017  \n",
      "                                               title  \\\n",
      "0  As U.S. budget fight looms, Republicans flip t...   \n",
      "1  U.S. military to accept transgender recruits o...   \n",
      "2  Senior U.S. Republican senator: 'Let Mr. Muell...   \n",
      "3  FBI Russia probe helped by Australian diplomat...   \n",
      "4  Trump wants Postal Service to charge 'much mor...   \n",
      "\n",
      "                                                text       subject  \\\n",
      "0  WASHINGTON (Reuters) - The head of a conservat...  politicsNews   \n",
      "1  WASHINGTON (Reuters) - Transgender people will...  politicsNews   \n",
      "2  WASHINGTON (Reuters) - The special counsel inv...  politicsNews   \n",
      "3  WASHINGTON (Reuters) - Trump campaign adviser ...  politicsNews   \n",
      "4  SEATTLE/WASHINGTON (Reuters) - President Donal...  politicsNews   \n",
      "\n",
      "                 date  \n",
      "0  December 31, 2017   \n",
      "1  December 29, 2017   \n",
      "2  December 31, 2017   \n",
      "3  December 30, 2017   \n",
      "4  December 29, 2017   \n"
     ]
    }
   ],
   "source": [
    "import pandas as pd\n",
    "\n",
    "# Load the two datasets\n",
    "fake_df = pd.read_csv('/Users/sora/Downloads/Fake.csv')\n",
    "true_df = pd.read_csv('/Users/sora/Downloads/True.csv')\n",
    "\n",
    "# Preview the datasets\n",
    "print(fake_df.head())\n",
    "print(true_df.head())"
   ]
  },
  {
   "cell_type": "markdown",
   "id": "7adf929b",
   "metadata": {},
   "source": [
    "Both datasets contain a text column with the articles, we can create labels for them."
   ]
  },
  {
   "cell_type": "markdown",
   "id": "6e96576a",
   "metadata": {},
   "source": [
    "# Labeling the Datasets\n",
    "\n",
    "Add a label column to each dataset to differentiate fake and real news. For example, 1 for fake news and 0 for real news."
   ]
  },
  {
   "cell_type": "code",
   "execution_count": 3,
   "id": "bfff668c",
   "metadata": {},
   "outputs": [],
   "source": [
    "# Add a label column: 1 for fake news, 0 for real news\n",
    "fake_df['label'] = 1\n",
    "true_df['label'] = 0"
   ]
  },
  {
   "cell_type": "markdown",
   "id": "4cea8edb",
   "metadata": {},
   "source": [
    "# Combining the Datasets\n",
    "\n",
    "Once labeled, we can combine both datasets into a single DataFrame."
   ]
  },
  {
   "cell_type": "code",
   "execution_count": 4,
   "id": "24279f1c",
   "metadata": {},
   "outputs": [
    {
     "name": "stdout",
     "output_type": "stream",
     "text": [
      "                                               title  \\\n",
      "0  Meeting between Trump and Japan's Abe has ende...   \n",
      "1  TRUMP DELIVERS MESSAGE TO PUTIN: “Russia, If Y...   \n",
      "2  MURDERERS AND RAPISTS FOR HILLARY: VA Governor...   \n",
      "3  Hurricane Irma will 'devastate' part of U.S.: ...   \n",
      "4  Fox News Cuts Off Terror Expert Before He Coul...   \n",
      "\n",
      "                                                text       subject  \\\n",
      "0  NEW YORK (Reuters) - A meeting in New York on ...  politicsNews   \n",
      "1  Trump says he s never talked to Putin and the ...      politics   \n",
      "2  The good news for Hillary is that she should b...      politics   \n",
      "3  WASHINGTON (Reuters) - Anticipating that Hurri...     worldnews   \n",
      "4  If you were watching Fox News this morning, yo...     left-news   \n",
      "\n",
      "                 date  label  \n",
      "0  November 17, 2016       0  \n",
      "1        Jul 27, 2016      1  \n",
      "2        Apr 23, 2016      1  \n",
      "3  September 8, 2017       0  \n",
      "4        Sep 15, 2017      1  \n",
      "label\n",
      "1    23481\n",
      "0    21417\n",
      "Name: count, dtype: int64\n"
     ]
    }
   ],
   "source": [
    "# Combine the datasets\n",
    "df = pd.concat([fake_df, true_df], ignore_index=True)\n",
    "\n",
    "# Shuffle the dataset to mix fake and real news\n",
    "df = df.sample(frac=1).reset_index(drop=True)\n",
    "\n",
    "# Check the structure of the combined dataset\n",
    "print(df.head())\n",
    "print(df['label'].value_counts())  # Check the distribution of fake and real news"
   ]
  },
  {
   "cell_type": "markdown",
   "id": "68de873a",
   "metadata": {},
   "source": [
    "# Cleaning the Dataset\n",
    "\n",
    "Now that the data is combined, you can proceed with cleaning by removing missing values and any irrelevant columns (if present)."
   ]
  },
  {
   "cell_type": "code",
   "execution_count": 5,
   "id": "5a600f27",
   "metadata": {},
   "outputs": [
    {
     "name": "stdout",
     "output_type": "stream",
     "text": [
      "title      0\n",
      "text       0\n",
      "subject    0\n",
      "date       0\n",
      "label      0\n",
      "dtype: int64\n",
      "                                                text       subject  label\n",
      "0  NEW YORK (Reuters) - A meeting in New York on ...  politicsNews      0\n",
      "1  Trump says he s never talked to Putin and the ...      politics      1\n",
      "2  The good news for Hillary is that she should b...      politics      1\n",
      "3  WASHINGTON (Reuters) - Anticipating that Hurri...     worldnews      0\n",
      "4  If you were watching Fox News this morning, yo...     left-news      1\n"
     ]
    }
   ],
   "source": [
    "# Check for missing values\n",
    "print(df.isnull().sum())\n",
    "\n",
    "# Drop rows with missing values in the 'text' column\n",
    "df = df.dropna(subset=['text'])\n",
    "\n",
    "# If any unnecessary columns are present, you can drop them (e.g., 'title', 'date')\n",
    "if 'title' in df.columns:\n",
    "    df = df.drop(['title', 'date'], axis=1)\n",
    "\n",
    "# Final structure check\n",
    "print(df.head())"
   ]
  },
  {
   "cell_type": "markdown",
   "id": "6f2d2dfa",
   "metadata": {},
   "source": [
    "# Preprocessing the Text Data\n",
    "\n",
    "Next, you’ll preprocess the text data, including tokenization, normalization, and padding.\n",
    "\n",
    "## a. Preprocessing Text\n",
    "\n",
    "Normalize the text by removing punctuation, stopwords, and converting everything to lowercase."
   ]
  },
  {
   "cell_type": "code",
   "execution_count": 6,
   "id": "eb4cecde",
   "metadata": {},
   "outputs": [
    {
     "name": "stderr",
     "output_type": "stream",
     "text": [
      "[nltk_data] Downloading package stopwords to /Users/sora/nltk_data...\n",
      "[nltk_data]   Package stopwords is already up-to-date!\n"
     ]
    },
    {
     "name": "stdout",
     "output_type": "stream",
     "text": [
      "0    new york reuters meeting new york thursday us ...\n",
      "1    trump says never talked putin allegation worki...\n",
      "2    good news hillary able connect hardened crimin...\n",
      "3    washington reuters anticipating hurricane irma...\n",
      "4    watching fox news morning probably saw terror ...\n",
      "Name: text, dtype: object\n"
     ]
    }
   ],
   "source": [
    "import string\n",
    "import nltk\n",
    "from nltk.corpus import stopwords\n",
    "\n",
    "nltk.download('stopwords')\n",
    "stop_words = set(stopwords.words('english'))\n",
    "\n",
    "# Preprocess the text: lowercase, remove punctuation and stopwords\n",
    "def preprocess_text(text):\n",
    "    text = text.lower()  # Convert to lowercase\n",
    "    text = ''.join([char for char in text if char not in string.punctuation])  # Remove punctuation\n",
    "    text = ' '.join([word for word in text.split() if word not in stop_words])  # Remove stopwords\n",
    "    return text\n",
    "\n",
    "# Apply preprocessing to the 'text' column\n",
    "df['text'] = df['text'].apply(preprocess_text)\n",
    "\n",
    "# Check an example after preprocessing\n",
    "print(df['text'].head())"
   ]
  },
  {
   "cell_type": "markdown",
   "id": "e8920a64",
   "metadata": {},
   "source": [
    "## b. Tokenization and Padding\n",
    "\n",
    "Tokenize the preprocessed text and pad the sequences to ensure all articles are of the same length for model training. "
   ]
  },
  {
   "cell_type": "code",
   "execution_count": 7,
   "id": "93f0693f",
   "metadata": {},
   "outputs": [
    {
     "name": "stdout",
     "output_type": "stream",
     "text": [
      "Padded sequences shape: (44898, 500)\n"
     ]
    }
   ],
   "source": [
    "from tensorflow.keras.preprocessing.text import Tokenizer\n",
    "from tensorflow.keras.preprocessing.sequence import pad_sequences\n",
    "\n",
    "# Define maximum vocabulary size and sequence length\n",
    "vocab_size = 10000\n",
    "maxlen = 500\n",
    "\n",
    "# Initialize the tokenizer and fit it on the combined text data\n",
    "tokenizer = Tokenizer(num_words=vocab_size)\n",
    "tokenizer.fit_on_texts(df['text'].values)\n",
    "\n",
    "# Convert the news articles to sequences of integers\n",
    "sequences = tokenizer.texts_to_sequences(df['text'].values)\n",
    "\n",
    "# Pad the sequences to ensure uniform length\n",
    "padded_sequences = pad_sequences(sequences, maxlen=maxlen)\n",
    "\n",
    "print(f\"Padded sequences shape: {padded_sequences.shape}\")"
   ]
  },
  {
   "cell_type": "markdown",
   "id": "dbd8db80",
   "metadata": {},
   "source": [
    "# Preparing the Labels\n",
    "\n",
    "You can extract the labels into a numpy array for model training. "
   ]
  },
  {
   "cell_type": "code",
   "execution_count": 8,
   "id": "26c9628b",
   "metadata": {},
   "outputs": [
    {
     "name": "stdout",
     "output_type": "stream",
     "text": [
      "Labels shape: (44898,)\n"
     ]
    }
   ],
   "source": [
    "import numpy as np\n",
    "\n",
    "# Convert labels to numpy array\n",
    "labels = df['label'].values\n",
    "print(f\"Labels shape: {labels.shape}\")"
   ]
  },
  {
   "cell_type": "markdown",
   "id": "241e605b",
   "metadata": {},
   "source": [
    "# Splitting the Dataset for Training and Testing\n",
    "\n",
    "Next, split the data into training and test sets to evaluate the model later. "
   ]
  },
  {
   "cell_type": "code",
   "execution_count": 9,
   "id": "9a94a124",
   "metadata": {},
   "outputs": [
    {
     "name": "stdout",
     "output_type": "stream",
     "text": [
      "Training data shape: (35918, 500), Training labels shape: (35918,)\n",
      "Test data shape: (8980, 500), Test labels shape: (8980,)\n"
     ]
    }
   ],
   "source": [
    "from sklearn.model_selection import train_test_split\n",
    "\n",
    "# Split the data into training and test sets\n",
    "x_train, x_test, y_train, y_test = train_test_split(padded_sequences, labels, test_size=0.2, random_state=42)\n",
    "\n",
    "# Check the shape of the training and test sets\n",
    "print(f\"Training data shape: {x_train.shape}, Training labels shape: {y_train.shape}\")\n",
    "print(f\"Test data shape: {x_test.shape}, Test labels shape: {y_test.shape}\")"
   ]
  },
  {
   "cell_type": "markdown",
   "id": "bc30d18f",
   "metadata": {},
   "source": [
    "# Saving the Preprocessed Dataset\n",
    "\n",
    "Finally, save the cleaned and preprocessed dataset for later use in model training."
   ]
  },
  {
   "cell_type": "code",
   "execution_count": 10,
   "id": "0847bd3d",
   "metadata": {},
   "outputs": [
    {
     "name": "stdout",
     "output_type": "stream",
     "text": [
      "Preprocessed Fake News Detection dataset saved.\n"
     ]
    }
   ],
   "source": [
    "import pickle\n",
    "\n",
    "# Save the preprocessed dataset as a binary file\n",
    "with open('fake_news_preprocessed_dataset.pkl', 'wb') as f:\n",
    "    pickle.dump((x_train, y_train, x_test, y_test), f)\n",
    "\n",
    "print(\"Preprocessed Fake News Detection dataset saved.\")"
   ]
  },
  {
   "cell_type": "markdown",
   "id": "f7e6e452",
   "metadata": {},
   "source": [
    "# Steps to Build and Train the Model\n",
    "\n",
    "## 1. Setting Up the Environment\n",
    "\n",
    "First, ensure that you have TensorFlow installed in your environment. If not, install it using:"
   ]
  },
  {
   "cell_type": "code",
   "execution_count": 11,
   "id": "2e65e177",
   "metadata": {
    "scrolled": true
   },
   "outputs": [
    {
     "name": "stdout",
     "output_type": "stream",
     "text": [
      "Requirement already satisfied: tensorflow in /Users/sora/anaconda3/lib/python3.11/site-packages (2.16.1)\n",
      "Requirement already satisfied: absl-py>=1.0.0 in /Users/sora/anaconda3/lib/python3.11/site-packages (from tensorflow) (2.1.0)\n",
      "Requirement already satisfied: astunparse>=1.6.0 in /Users/sora/anaconda3/lib/python3.11/site-packages (from tensorflow) (1.6.3)\n",
      "Requirement already satisfied: flatbuffers>=23.5.26 in /Users/sora/anaconda3/lib/python3.11/site-packages (from tensorflow) (24.3.25)\n",
      "Requirement already satisfied: gast!=0.5.0,!=0.5.1,!=0.5.2,>=0.2.1 in /Users/sora/anaconda3/lib/python3.11/site-packages (from tensorflow) (0.5.4)\n",
      "Requirement already satisfied: google-pasta>=0.1.1 in /Users/sora/anaconda3/lib/python3.11/site-packages (from tensorflow) (0.2.0)\n",
      "Requirement already satisfied: h5py>=3.10.0 in /Users/sora/anaconda3/lib/python3.11/site-packages (from tensorflow) (3.11.0)\n",
      "Requirement already satisfied: libclang>=13.0.0 in /Users/sora/anaconda3/lib/python3.11/site-packages (from tensorflow) (18.1.1)\n",
      "Requirement already satisfied: ml-dtypes~=0.3.1 in /Users/sora/anaconda3/lib/python3.11/site-packages (from tensorflow) (0.3.2)\n",
      "Requirement already satisfied: opt-einsum>=2.3.2 in /Users/sora/anaconda3/lib/python3.11/site-packages (from tensorflow) (3.3.0)\n",
      "Requirement already satisfied: packaging in /Users/sora/anaconda3/lib/python3.11/site-packages (from tensorflow) (23.1)\n",
      "Requirement already satisfied: protobuf!=4.21.0,!=4.21.1,!=4.21.2,!=4.21.3,!=4.21.4,!=4.21.5,<5.0.0dev,>=3.20.3 in /Users/sora/anaconda3/lib/python3.11/site-packages (from tensorflow) (4.25.3)\n",
      "Requirement already satisfied: requests<3,>=2.21.0 in /Users/sora/anaconda3/lib/python3.11/site-packages (from tensorflow) (2.31.0)\n",
      "Requirement already satisfied: setuptools in /Users/sora/anaconda3/lib/python3.11/site-packages (from tensorflow) (68.0.0)\n",
      "Requirement already satisfied: six>=1.12.0 in /Users/sora/anaconda3/lib/python3.11/site-packages (from tensorflow) (1.16.0)\n",
      "Requirement already satisfied: termcolor>=1.1.0 in /Users/sora/anaconda3/lib/python3.11/site-packages (from tensorflow) (2.4.0)\n",
      "Requirement already satisfied: typing-extensions>=3.6.6 in /Users/sora/anaconda3/lib/python3.11/site-packages (from tensorflow) (4.11.0)\n",
      "Requirement already satisfied: wrapt>=1.11.0 in /Users/sora/anaconda3/lib/python3.11/site-packages (from tensorflow) (1.14.1)\n",
      "Requirement already satisfied: grpcio<2.0,>=1.24.3 in /Users/sora/anaconda3/lib/python3.11/site-packages (from tensorflow) (1.63.0)\n",
      "Requirement already satisfied: tensorboard<2.17,>=2.16 in /Users/sora/anaconda3/lib/python3.11/site-packages (from tensorflow) (2.16.2)\n",
      "Requirement already satisfied: keras>=3.0.0 in /Users/sora/anaconda3/lib/python3.11/site-packages (from tensorflow) (3.2.1)\n",
      "Requirement already satisfied: tensorflow-io-gcs-filesystem>=0.23.1 in /Users/sora/anaconda3/lib/python3.11/site-packages (from tensorflow) (0.36.0)\n",
      "Requirement already satisfied: numpy<2.0.0,>=1.23.5 in /Users/sora/anaconda3/lib/python3.11/site-packages (from tensorflow) (1.24.3)\n",
      "Requirement already satisfied: wheel<1.0,>=0.23.0 in /Users/sora/anaconda3/lib/python3.11/site-packages (from astunparse>=1.6.0->tensorflow) (0.38.4)\n",
      "Requirement already satisfied: rich in /Users/sora/anaconda3/lib/python3.11/site-packages (from keras>=3.0.0->tensorflow) (13.7.1)\n",
      "Requirement already satisfied: namex in /Users/sora/anaconda3/lib/python3.11/site-packages (from keras>=3.0.0->tensorflow) (0.0.8)\n",
      "Requirement already satisfied: optree in /Users/sora/anaconda3/lib/python3.11/site-packages (from keras>=3.0.0->tensorflow) (0.11.0)\n",
      "Requirement already satisfied: charset-normalizer<4,>=2 in /Users/sora/anaconda3/lib/python3.11/site-packages (from requests<3,>=2.21.0->tensorflow) (3.3.2)\n",
      "Requirement already satisfied: idna<4,>=2.5 in /Users/sora/anaconda3/lib/python3.11/site-packages (from requests<3,>=2.21.0->tensorflow) (3.4)\n",
      "Requirement already satisfied: urllib3<3,>=1.21.1 in /Users/sora/anaconda3/lib/python3.11/site-packages (from requests<3,>=2.21.0->tensorflow) (1.26.16)\n",
      "Requirement already satisfied: certifi>=2017.4.17 in /Users/sora/anaconda3/lib/python3.11/site-packages (from requests<3,>=2.21.0->tensorflow) (2024.2.2)\n",
      "Requirement already satisfied: markdown>=2.6.8 in /Users/sora/anaconda3/lib/python3.11/site-packages (from tensorboard<2.17,>=2.16->tensorflow) (3.4.1)\n",
      "Requirement already satisfied: tensorboard-data-server<0.8.0,>=0.7.0 in /Users/sora/anaconda3/lib/python3.11/site-packages (from tensorboard<2.17,>=2.16->tensorflow) (0.7.2)\n",
      "Requirement already satisfied: werkzeug>=1.0.1 in /Users/sora/anaconda3/lib/python3.11/site-packages (from tensorboard<2.17,>=2.16->tensorflow) (3.0.2)\n",
      "Requirement already satisfied: MarkupSafe>=2.1.1 in /Users/sora/anaconda3/lib/python3.11/site-packages (from werkzeug>=1.0.1->tensorboard<2.17,>=2.16->tensorflow) (2.1.1)\n",
      "Requirement already satisfied: markdown-it-py>=2.2.0 in /Users/sora/anaconda3/lib/python3.11/site-packages (from rich->keras>=3.0.0->tensorflow) (2.2.0)\n",
      "Requirement already satisfied: pygments<3.0.0,>=2.13.0 in /Users/sora/anaconda3/lib/python3.11/site-packages (from rich->keras>=3.0.0->tensorflow) (2.15.1)\n",
      "Requirement already satisfied: mdurl~=0.1 in /Users/sora/anaconda3/lib/python3.11/site-packages (from markdown-it-py>=2.2.0->rich->keras>=3.0.0->tensorflow) (0.1.0)\n",
      "Note: you may need to restart the kernel to use updated packages.\n"
     ]
    }
   ],
   "source": [
    "pip install tensorflow"
   ]
  },
  {
   "cell_type": "markdown",
   "id": "a2e0a1f6",
   "metadata": {},
   "source": [
    "## 2. Model Architecture\n",
    "\n",
    "We will use an LSTM-based model since it works well with sequential data and can remember patterns in the text better than a basic RNN. The architecture will consist of:\n",
    "\n",
    "- Embedding Layer: Converts words into dense vectors.\n",
    "- LSTM Layer: Learns from sequential dependencies in the text.\n",
    "- Dense Layers: Used to classify the output as fake or real."
   ]
  },
  {
   "cell_type": "code",
   "execution_count": 12,
   "id": "f2c6b248",
   "metadata": {},
   "outputs": [
    {
     "name": "stdout",
     "output_type": "stream",
     "text": [
      "Preprocessed Fake News Detection dataset loaded.\n"
     ]
    }
   ],
   "source": [
    "# Load the preprocessed dataset from the binary file\n",
    "with open('fake_news_preprocessed_dataset.pkl', 'rb') as f:\n",
    "    x_train, y_train, x_test, y_test = pickle.load(f)\n",
    "\n",
    "print(\"Preprocessed Fake News Detection dataset loaded.\")"
   ]
  },
  {
   "cell_type": "code",
   "execution_count": 13,
   "id": "1d3660b4",
   "metadata": {
    "scrolled": false
   },
   "outputs": [
    {
     "name": "stderr",
     "output_type": "stream",
     "text": [
      "/Users/sora/anaconda3/lib/python3.11/site-packages/keras/src/layers/core/embedding.py:86: UserWarning: Argument `input_length` is deprecated. Just remove it.\n",
      "  warnings.warn(\n"
     ]
    },
    {
     "data": {
      "text/html": [
       "<pre style=\"white-space:pre;overflow-x:auto;line-height:normal;font-family:Menlo,'DejaVu Sans Mono',consolas,'Courier New',monospace\"><span style=\"font-weight: bold\">Model: \"sequential_1\"</span>\n",
       "</pre>\n"
      ],
      "text/plain": [
       "\u001b[1mModel: \"sequential_1\"\u001b[0m\n"
      ]
     },
     "metadata": {},
     "output_type": "display_data"
    },
    {
     "data": {
      "text/html": [
       "<pre style=\"white-space:pre;overflow-x:auto;line-height:normal;font-family:Menlo,'DejaVu Sans Mono',consolas,'Courier New',monospace\">┏━━━━━━━━━━━━━━━━━━━━━━━━━━━━━━━━━┳━━━━━━━━━━━━━━━━━━━━━━━━┳━━━━━━━━━━━━━━━┓\n",
       "┃<span style=\"font-weight: bold\"> Layer (type)                    </span>┃<span style=\"font-weight: bold\"> Output Shape           </span>┃<span style=\"font-weight: bold\">       Param # </span>┃\n",
       "┡━━━━━━━━━━━━━━━━━━━━━━━━━━━━━━━━━╇━━━━━━━━━━━━━━━━━━━━━━━━╇━━━━━━━━━━━━━━━┩\n",
       "│ embedding_1 (<span style=\"color: #0087ff; text-decoration-color: #0087ff\">Embedding</span>)         │ (<span style=\"color: #00af00; text-decoration-color: #00af00\">1</span>, <span style=\"color: #00af00; text-decoration-color: #00af00\">500</span>, <span style=\"color: #00af00; text-decoration-color: #00af00\">128</span>)          │     <span style=\"color: #00af00; text-decoration-color: #00af00\">1,280,000</span> │\n",
       "├─────────────────────────────────┼────────────────────────┼───────────────┤\n",
       "│ lstm_1 (<span style=\"color: #0087ff; text-decoration-color: #0087ff\">LSTM</span>)                   │ (<span style=\"color: #00af00; text-decoration-color: #00af00\">1</span>, <span style=\"color: #00af00; text-decoration-color: #00af00\">128</span>)               │       <span style=\"color: #00af00; text-decoration-color: #00af00\">131,584</span> │\n",
       "├─────────────────────────────────┼────────────────────────┼───────────────┤\n",
       "│ dropout_1 (<span style=\"color: #0087ff; text-decoration-color: #0087ff\">Dropout</span>)             │ (<span style=\"color: #00af00; text-decoration-color: #00af00\">1</span>, <span style=\"color: #00af00; text-decoration-color: #00af00\">128</span>)               │             <span style=\"color: #00af00; text-decoration-color: #00af00\">0</span> │\n",
       "├─────────────────────────────────┼────────────────────────┼───────────────┤\n",
       "│ dense_1 (<span style=\"color: #0087ff; text-decoration-color: #0087ff\">Dense</span>)                 │ (<span style=\"color: #00af00; text-decoration-color: #00af00\">1</span>, <span style=\"color: #00af00; text-decoration-color: #00af00\">1</span>)                 │           <span style=\"color: #00af00; text-decoration-color: #00af00\">129</span> │\n",
       "└─────────────────────────────────┴────────────────────────┴───────────────┘\n",
       "</pre>\n"
      ],
      "text/plain": [
       "┏━━━━━━━━━━━━━━━━━━━━━━━━━━━━━━━━━┳━━━━━━━━━━━━━━━━━━━━━━━━┳━━━━━━━━━━━━━━━┓\n",
       "┃\u001b[1m \u001b[0m\u001b[1mLayer (type)                   \u001b[0m\u001b[1m \u001b[0m┃\u001b[1m \u001b[0m\u001b[1mOutput Shape          \u001b[0m\u001b[1m \u001b[0m┃\u001b[1m \u001b[0m\u001b[1m      Param #\u001b[0m\u001b[1m \u001b[0m┃\n",
       "┡━━━━━━━━━━━━━━━━━━━━━━━━━━━━━━━━━╇━━━━━━━━━━━━━━━━━━━━━━━━╇━━━━━━━━━━━━━━━┩\n",
       "│ embedding_1 (\u001b[38;5;33mEmbedding\u001b[0m)         │ (\u001b[38;5;34m1\u001b[0m, \u001b[38;5;34m500\u001b[0m, \u001b[38;5;34m128\u001b[0m)          │     \u001b[38;5;34m1,280,000\u001b[0m │\n",
       "├─────────────────────────────────┼────────────────────────┼───────────────┤\n",
       "│ lstm_1 (\u001b[38;5;33mLSTM\u001b[0m)                   │ (\u001b[38;5;34m1\u001b[0m, \u001b[38;5;34m128\u001b[0m)               │       \u001b[38;5;34m131,584\u001b[0m │\n",
       "├─────────────────────────────────┼────────────────────────┼───────────────┤\n",
       "│ dropout_1 (\u001b[38;5;33mDropout\u001b[0m)             │ (\u001b[38;5;34m1\u001b[0m, \u001b[38;5;34m128\u001b[0m)               │             \u001b[38;5;34m0\u001b[0m │\n",
       "├─────────────────────────────────┼────────────────────────┼───────────────┤\n",
       "│ dense_1 (\u001b[38;5;33mDense\u001b[0m)                 │ (\u001b[38;5;34m1\u001b[0m, \u001b[38;5;34m1\u001b[0m)                 │           \u001b[38;5;34m129\u001b[0m │\n",
       "└─────────────────────────────────┴────────────────────────┴───────────────┘\n"
      ]
     },
     "metadata": {},
     "output_type": "display_data"
    },
    {
     "data": {
      "text/html": [
       "<pre style=\"white-space:pre;overflow-x:auto;line-height:normal;font-family:Menlo,'DejaVu Sans Mono',consolas,'Courier New',monospace\"><span style=\"font-weight: bold\"> Total params: </span><span style=\"color: #00af00; text-decoration-color: #00af00\">1,411,713</span> (5.39 MB)\n",
       "</pre>\n"
      ],
      "text/plain": [
       "\u001b[1m Total params: \u001b[0m\u001b[38;5;34m1,411,713\u001b[0m (5.39 MB)\n"
      ]
     },
     "metadata": {},
     "output_type": "display_data"
    },
    {
     "data": {
      "text/html": [
       "<pre style=\"white-space:pre;overflow-x:auto;line-height:normal;font-family:Menlo,'DejaVu Sans Mono',consolas,'Courier New',monospace\"><span style=\"font-weight: bold\"> Trainable params: </span><span style=\"color: #00af00; text-decoration-color: #00af00\">1,411,713</span> (5.39 MB)\n",
       "</pre>\n"
      ],
      "text/plain": [
       "\u001b[1m Trainable params: \u001b[0m\u001b[38;5;34m1,411,713\u001b[0m (5.39 MB)\n"
      ]
     },
     "metadata": {},
     "output_type": "display_data"
    },
    {
     "data": {
      "text/html": [
       "<pre style=\"white-space:pre;overflow-x:auto;line-height:normal;font-family:Menlo,'DejaVu Sans Mono',consolas,'Courier New',monospace\"><span style=\"font-weight: bold\"> Non-trainable params: </span><span style=\"color: #00af00; text-decoration-color: #00af00\">0</span> (0.00 B)\n",
       "</pre>\n"
      ],
      "text/plain": [
       "\u001b[1m Non-trainable params: \u001b[0m\u001b[38;5;34m0\u001b[0m (0.00 B)\n"
      ]
     },
     "metadata": {},
     "output_type": "display_data"
    }
   ],
   "source": [
    "import tensorflow as tf\n",
    "from tensorflow.keras.models import Sequential\n",
    "from tensorflow.keras.layers import Embedding, LSTM, Dense, Dropout\n",
    "from tensorflow.keras.optimizers import Adam\n",
    "\n",
    "# Define model parameters\n",
    "vocab_size = 10000  # Vocabulary size\n",
    "embedding_dim = 128  # Embedding dimension\n",
    "maxlen = 500  # Maximum length of input sequences\n",
    "\n",
    "# Building the Sequential model\n",
    "model = Sequential()\n",
    "\n",
    "# Embedding layer: Convert words into dense vectors\n",
    "model.add(Embedding(input_dim=vocab_size, output_dim=embedding_dim, input_length=maxlen))\n",
    "\n",
    "# LSTM layer: Learns sequential dependencies in text\n",
    "model.add(LSTM(units=128))\n",
    "\n",
    "# Dropout layer: Helps prevent overfitting\n",
    "model.add(Dropout(0.5))\n",
    "\n",
    "# Dense layer: Output layer with sigmoid activation for binary classification (fake = 1, real = 0)\n",
    "model.add(Dense(1, activation='sigmoid'))\n",
    "\n",
    "# Compile the model: binary crossentropy for binary classification\n",
    "model.compile(optimizer=Adam(learning_rate=0.001), loss='binary_crossentropy', metrics=['accuracy'])\n",
    "\n",
    "# Create a dummy input to force the model to build (generate random integers in the range of [0, vocab_size-1])\n",
    "dummy_input = tf.random.uniform((1, maxlen), minval=0, maxval=vocab_size, dtype=tf.int32)  # Add maxval here\n",
    "\n",
    "# Pass the dummy input to the model to initialize it\n",
    "model(dummy_input)\n",
    "\n",
    "# Now, print the model summary\n",
    "model.summary()"
   ]
  },
  {
   "cell_type": "code",
   "execution_count": 14,
   "id": "697b3eac",
   "metadata": {},
   "outputs": [
    {
     "name": "stdout",
     "output_type": "stream",
     "text": [
      "Epoch 1/5\n",
      "\u001b[1m562/562\u001b[0m \u001b[32m━━━━━━━━━━━━━━━━━━━━\u001b[0m\u001b[37m\u001b[0m \u001b[1m240s\u001b[0m 426ms/step - accuracy: 0.9041 - loss: 0.2336 - val_accuracy: 0.9873 - val_loss: 0.0511\n",
      "Epoch 2/5\n",
      "\u001b[1m562/562\u001b[0m \u001b[32m━━━━━━━━━━━━━━━━━━━━\u001b[0m\u001b[37m\u001b[0m \u001b[1m232s\u001b[0m 413ms/step - accuracy: 0.9844 - loss: 0.0570 - val_accuracy: 0.9923 - val_loss: 0.0341\n",
      "Epoch 3/5\n",
      "\u001b[1m562/562\u001b[0m \u001b[32m━━━━━━━━━━━━━━━━━━━━\u001b[0m\u001b[37m\u001b[0m \u001b[1m245s\u001b[0m 436ms/step - accuracy: 0.9826 - loss: 0.0599 - val_accuracy: 0.9949 - val_loss: 0.0216\n",
      "Epoch 4/5\n",
      "\u001b[1m562/562\u001b[0m \u001b[32m━━━━━━━━━━━━━━━━━━━━\u001b[0m\u001b[37m\u001b[0m \u001b[1m244s\u001b[0m 433ms/step - accuracy: 0.9958 - loss: 0.0162 - val_accuracy: 0.9961 - val_loss: 0.0161\n",
      "Epoch 5/5\n",
      "\u001b[1m562/562\u001b[0m \u001b[32m━━━━━━━━━━━━━━━━━━━━\u001b[0m\u001b[37m\u001b[0m \u001b[1m233s\u001b[0m 415ms/step - accuracy: 0.9982 - loss: 0.0077 - val_accuracy: 0.9950 - val_loss: 0.0249\n"
     ]
    },
    {
     "name": "stderr",
     "output_type": "stream",
     "text": [
      "WARNING:absl:You are saving your model as an HDF5 file via `model.save()` or `keras.saving.save_model(model)`. This file format is considered legacy. We recommend using instead the native Keras format, e.g. `model.save('my_model.keras')` or `keras.saving.save_model(model, 'my_model.keras')`. \n"
     ]
    }
   ],
   "source": [
    "# Set hyperparameters\n",
    "epochs = 5  # Number of times the model will see the entire dataset\n",
    "batch_size = 64  # Number of samples to process before updating the model\n",
    "\n",
    "# Train the model\n",
    "history = model.fit(x_train, y_train, validation_data=(x_test, y_test), epochs=epochs, batch_size=batch_size)\n",
    "\n",
    "# Save the trained model\n",
    "model.save(\"fake_news_detection_model.h5\")"
   ]
  },
  {
   "cell_type": "code",
   "execution_count": 15,
   "id": "cae2c5ce",
   "metadata": {},
   "outputs": [
    {
     "name": "stdout",
     "output_type": "stream",
     "text": [
      "\u001b[1m281/281\u001b[0m \u001b[32m━━━━━━━━━━━━━━━━━━━━\u001b[0m\u001b[37m\u001b[0m \u001b[1m26s\u001b[0m 94ms/step - accuracy: 0.9954 - loss: 0.0236\n",
      "Test Accuracy: 0.9950\n"
     ]
    }
   ],
   "source": [
    "# Evaluate the model on the test set\n",
    "test_loss, test_acc = model.evaluate(x_test, y_test)\n",
    "print(f\"Test Accuracy: {test_acc:.4f}\")"
   ]
  },
  {
   "cell_type": "code",
   "execution_count": 16,
   "id": "41c9927a",
   "metadata": {},
   "outputs": [
    {
     "data": {
      "image/png": "[encoded data removed]",
      "text/plain": [
       "<Figure size 640x480 with 1 Axes>"
      ]
     },
     "metadata": {},
     "output_type": "display_data"
    },
    {
     "data": {
      "image/png": "[encoded data removed]",
      "text/plain": [
       "<Figure size 640x480 with 1 Axes>"
      ]
     },
     "metadata": {},
     "output_type": "display_data"
    }
   ],
   "source": [
    "import matplotlib.pyplot as plt\n",
    "\n",
    "# Plot training & validation accuracy values\n",
    "plt.plot(history.history['accuracy'])\n",
    "plt.plot(history.history['val_accuracy'])\n",
    "plt.title('Model accuracy')\n",
    "plt.ylabel('Accuracy')\n",
    "plt.xlabel('Epoch')\n",
    "plt.legend(['Train', 'Test'], loc='upper left')\n",
    "plt.show()\n",
    "\n",
    "# Plot training & validation loss values\n",
    "plt.plot(history.history['loss'])\n",
    "plt.plot(history.history['val_loss'])\n",
    "plt.title('Model loss')\n",
    "plt.ylabel('Loss')\n",
    "plt.xlabel('Epoch')\n",
    "plt.legend(['Train', 'Test'], loc='upper left')\n",
    "plt.show()"
   ]
  },
  {
   "cell_type": "code",
   "execution_count": 17,
   "id": "a8c3b215",
   "metadata": {
    "scrolled": true
   },
   "outputs": [
    {
     "name": "stdout",
     "output_type": "stream",
     "text": [
      "Training with LSTM units=128, Dropout=0.3, Batch Size=32, Learning Rate=0.001, Epochs=3\n",
      "Epoch 1/3\n"
     ]
    },
    {
     "name": "stderr",
     "output_type": "stream",
     "text": [
      "/Users/sora/anaconda3/lib/python3.11/site-packages/keras/src/layers/core/embedding.py:86: UserWarning: Argument `input_length` is deprecated. Just remove it.\n",
      "  warnings.warn(\n"
     ]
    },
    {
     "name": "stdout",
     "output_type": "stream",
     "text": [
      "\u001b[1m1123/1123\u001b[0m \u001b[32m━━━━━━━━━━━━━━━━━━━━\u001b[0m\u001b[37m\u001b[0m \u001b[1m422s\u001b[0m 375ms/step - accuracy: 0.9119 - loss: 0.2321 - val_accuracy: 0.9783 - val_loss: 0.0766\n",
      "Epoch 2/3\n",
      "\u001b[1m1123/1123\u001b[0m \u001b[32m━━━━━━━━━━━━━━━━━━━━\u001b[0m\u001b[37m\u001b[0m \u001b[1m360s\u001b[0m 321ms/step - accuracy: 0.9875 - loss: 0.0425 - val_accuracy: 0.9911 - val_loss: 0.0317\n",
      "Epoch 3/3\n",
      "\u001b[1m1123/1123\u001b[0m \u001b[32m━━━━━━━━━━━━━━━━━━━━\u001b[0m\u001b[37m\u001b[0m \u001b[1m380s\u001b[0m 339ms/step - accuracy: 0.9970 - loss: 0.0126 - val_accuracy: 0.9965 - val_loss: 0.0114\n",
      "New Best Model Found: Validation Accuracy = 0.9965\n",
      "Best Hyperparameters: {'LSTM units': 128, 'Dropout': 0.3, 'Batch Size': 32, 'Learning Rate': 0.001, 'Epochs': 3}\n",
      "Training with LSTM units=128, Dropout=0.3, Batch Size=64, Learning Rate=0.001, Epochs=3\n",
      "Epoch 1/3\n",
      "\u001b[1m562/562\u001b[0m \u001b[32m━━━━━━━━━━━━━━━━━━━━\u001b[0m\u001b[37m\u001b[0m \u001b[1m233s\u001b[0m 413ms/step - accuracy: 0.9158 - loss: 0.1888 - val_accuracy: 0.9844 - val_loss: 0.0509\n",
      "Epoch 2/3\n",
      "\u001b[1m562/562\u001b[0m \u001b[32m━━━━━━━━━━━━━━━━━━━━\u001b[0m\u001b[37m\u001b[0m \u001b[1m1408s\u001b[0m 3s/step - accuracy: 0.9910 - loss: 0.0313 - val_accuracy: 0.9934 - val_loss: 0.0262\n",
      "Training with LSTM units=128, Dropout=0.5, Batch Size=32, Learning Rate=0.001, Epochs=3\n",
      "Epoch 1/3\n",
      "\u001b[1m1123/1123\u001b[0m \u001b[32m━━━━━━━━━━━━━━━━━━━━\u001b[0m\u001b[37m\u001b[0m \u001b[1m2214s\u001b[0m 2s/step - accuracy: 0.9388 - loss: 0.1701 - val_accuracy: 0.9755 - val_loss: 0.0784\n",
      "Epoch 2/3\n",
      "\u001b[1m1123/1123\u001b[0m \u001b[32m━━━━━━━━━━━━━━━━━━━━\u001b[0m\u001b[37m\u001b[0m \u001b[1m400s\u001b[0m 356ms/step - accuracy: 0.9828 - loss: 0.0519 - val_accuracy: 0.9876 - val_loss: 0.0382\n",
      "Training with LSTM units=128, Dropout=0.5, Batch Size=64, Learning Rate=0.001, Epochs=3\n",
      "Epoch 1/3\n",
      "\u001b[1m562/562\u001b[0m \u001b[32m━━━━━━━━━━━━━━━━━━━━\u001b[0m\u001b[37m\u001b[0m \u001b[1m254s\u001b[0m 451ms/step - accuracy: 0.9264 - loss: 0.1946 - val_accuracy: 0.9921 - val_loss: 0.0292\n",
      "Epoch 2/3\n",
      "\u001b[1m562/562\u001b[0m \u001b[32m━━━━━━━━━━━━━━━━━━━━\u001b[0m\u001b[37m\u001b[0m \u001b[1m1150s\u001b[0m 2s/step - accuracy: 0.9897 - loss: 0.0359 - val_accuracy: 0.9937 - val_loss: 0.0224\n",
      "Training with LSTM units=256, Dropout=0.3, Batch Size=32, Learning Rate=0.001, Epochs=3\n",
      "Epoch 1/3\n",
      "\u001b[1m1123/1123\u001b[0m \u001b[32m━━━━━━━━━━━━━━━━━━━━\u001b[0m\u001b[37m\u001b[0m \u001b[1m3463s\u001b[0m 3s/step - accuracy: 0.9185 - loss: 0.1925 - val_accuracy: 0.9806 - val_loss: 0.0623\n",
      "Epoch 2/3\n",
      "\u001b[1m1123/1123\u001b[0m \u001b[32m━━━━━━━━━━━━━━━━━━━━\u001b[0m\u001b[37m\u001b[0m \u001b[1m871s\u001b[0m 775ms/step - accuracy: 0.9897 - loss: 0.0315 - val_accuracy: 0.9609 - val_loss: 0.1180\n",
      "Training with LSTM units=256, Dropout=0.3, Batch Size=64, Learning Rate=0.001, Epochs=3\n",
      "Epoch 1/3\n",
      "\u001b[1m562/562\u001b[0m \u001b[32m━━━━━━━━━━━━━━━━━━━━\u001b[0m\u001b[37m\u001b[0m \u001b[1m560s\u001b[0m 996ms/step - accuracy: 0.9072 - loss: 0.2004 - val_accuracy: 0.9239 - val_loss: 0.1895\n",
      "Epoch 2/3\n",
      "\u001b[1m562/562\u001b[0m \u001b[32m━━━━━━━━━━━━━━━━━━━━\u001b[0m\u001b[37m\u001b[0m \u001b[1m596s\u001b[0m 1s/step - accuracy: 0.9725 - loss: 0.0786 - val_accuracy: 0.9929 - val_loss: 0.0232\n",
      "Training with LSTM units=256, Dropout=0.5, Batch Size=32, Learning Rate=0.001, Epochs=3\n",
      "Epoch 1/3\n",
      "\u001b[1m1123/1123\u001b[0m \u001b[32m━━━━━━━━━━━━━━━━━━━━\u001b[0m\u001b[37m\u001b[0m \u001b[1m915s\u001b[0m 815ms/step - accuracy: 0.9113 - loss: 0.2212 - val_accuracy: 0.9836 - val_loss: 0.0571\n",
      "Epoch 2/3\n",
      "\u001b[1m1123/1123\u001b[0m \u001b[32m━━━━━━━━━━━━━━━━━━━━\u001b[0m\u001b[37m\u001b[0m \u001b[1m966s\u001b[0m 860ms/step - accuracy: 0.9938 - loss: 0.0243 - val_accuracy: 0.9952 - val_loss: 0.0198\n",
      "Training with LSTM units=256, Dropout=0.5, Batch Size=64, Learning Rate=0.001, Epochs=3\n",
      "Epoch 1/3\n",
      "\u001b[1m562/562\u001b[0m \u001b[32m━━━━━━━━━━━━━━━━━━━━\u001b[0m\u001b[37m\u001b[0m \u001b[1m654s\u001b[0m 1s/step - accuracy: 0.8991 - loss: 0.2347 - val_accuracy: 0.9776 - val_loss: 0.0729\n",
      "Epoch 2/3\n",
      "\u001b[1m562/562\u001b[0m \u001b[32m━━━━━━━━━━━━━━━━━━━━\u001b[0m\u001b[37m\u001b[0m \u001b[1m640s\u001b[0m 1s/step - accuracy: 0.9785 - loss: 0.0684 - val_accuracy: 0.9916 - val_loss: 0.0327\n",
      "Best Validation Accuracy: 0.9965478777885437\n",
      "Best Hyperparameters: {'LSTM units': 128, 'Dropout': 0.3, 'Batch Size': 32, 'Learning Rate': 0.001, 'Epochs': 3}\n"
     ]
    }
   ],
   "source": [
    "import tensorflow as tf\n",
    "from tensorflow.keras.models import Sequential\n",
    "from tensorflow.keras.layers import Embedding, LSTM, Dense, Dropout\n",
    "from tensorflow.keras.optimizers import Adam\n",
    "from tensorflow.keras.callbacks import EarlyStopping\n",
    "# Define model parameters\n",
    "vocab_size = 10000  # Vocabulary size\n",
    "embedding_dim = 128  # Embedding dimension\n",
    "maxlen = 500  # Maximum length of input sequences\n",
    "\n",
    "# Hyperparameter grid (reduced search space)\n",
    "lstm_units_list = [128, 256]  # Two values for LSTM units\n",
    "dropout_rates = [0.3, 0.5]  # Two values for dropout rates\n",
    "batch_sizes = [32, 64]  # Two values for batch sizes\n",
    "learning_rates = [0.001]  # Single value for learning rate\n",
    "epochs = [3]  # Reduce epochs to 3 during tuning\n",
    "\n",
    "best_accuracy = 0\n",
    "best_hyperparams = {}\n",
    "\n",
    "# Early stopping to avoid long training on poor-performing models\n",
    "early_stopping = EarlyStopping(monitor='val_loss', patience=1, restore_best_weights=True)\n",
    "\n",
    "# Experiment with combinations of hyperparameters (fewer combinations now)\n",
    "for lstm_units in lstm_units_list:\n",
    "    for dropout_rate in dropout_rates:\n",
    "        for batch_size in batch_sizes:\n",
    "            for lr in learning_rates:\n",
    "                for epoch in epochs:\n",
    "                    print(f\"Training with LSTM units={lstm_units}, Dropout={dropout_rate}, \"\n",
    "                          f\"Batch Size={batch_size}, Learning Rate={lr}, Epochs={epoch}\")\n",
    "                    \n",
    "                    # Build the model\n",
    "                    model = Sequential()\n",
    "                    model.add(Embedding(input_dim=vocab_size, output_dim=embedding_dim, input_length=maxlen))\n",
    "                    model.add(LSTM(units=lstm_units))\n",
    "                    model.add(Dropout(dropout_rate))\n",
    "                    model.add(Dense(1, activation='sigmoid'))\n",
    "                    \n",
    "                    # Compile the model with the current learning rate\n",
    "                    model.compile(optimizer=Adam(learning_rate=lr), loss='binary_crossentropy', metrics=['accuracy'])\n",
    "                    \n",
    "                    # Train the model\n",
    "                    history = model.fit(x_train, y_train, epochs=epoch, batch_size=batch_size, \n",
    "                                        validation_data=(x_test, y_test), callbacks=[early_stopping], verbose=1)\n",
    "                    \n",
    "                    # Get validation accuracy\n",
    "                    val_accuracy = max(history.history['val_accuracy'])\n",
    "                    \n",
    "                    # Update the best hyperparameters if performance improves\n",
    "                    if val_accuracy > best_accuracy:\n",
    "                        best_accuracy = val_accuracy\n",
    "                        best_hyperparams = {\n",
    "                            'LSTM units': lstm_units,\n",
    "                            'Dropout': dropout_rate,\n",
    "                            'Batch Size': batch_size,\n",
    "                            'Learning Rate': lr,\n",
    "                            'Epochs': epoch\n",
    "                        }\n",
    "                        \n",
    "                        print(f\"New Best Model Found: Validation Accuracy = {val_accuracy:.4f}\")\n",
    "                        print(f\"Best Hyperparameters: {best_hyperparams}\")\n",
    "\n",
    "# After tuning, print out the best hyperparameters\n",
    "print(f\"Best Validation Accuracy: {best_accuracy}\")\n",
    "print(f\"Best Hyperparameters: {best_hyperparams}\")"
   ]
  },
  {
   "cell_type": "code",
   "execution_count": null,
   "id": "365f0de9",
   "metadata": {},
   "outputs": [],
   "source": [
    "import matplotlib.pyplot as plt\n",
    "\n",
    "# Function to plot accuracy and loss for training and validation data\n",
    "def plot_training_history(history):\n",
    "    # Plot training & validation accuracy values\n",
    "    plt.figure(figsize=(12, 5))\n",
    "\n",
    "    # Accuracy plot\n",
    "    plt.subplot(1, 2, 1)\n",
    "    plt.plot(history.history['accuracy'], label='Train Accuracy')\n",
    "    plt.plot(history.history['val_accuracy'], label='Validation Accuracy')\n",
    "    plt.title('Model Accuracy')\n",
    "    plt.ylabel('Accuracy')\n",
    "    plt.xlabel('Epoch')\n",
    "    plt.legend(loc='upper left')\n",
    "\n",
    "    # Loss plot\n",
    "    plt.subplot(1, 2, 2)\n",
    "    plt.plot(history.history['loss'], label='Train Loss')\n",
    "    plt.plot(history.history['val_loss'], label='Validation Loss')\n",
    "    plt.title('Model Loss')\n",
    "    plt.ylabel('Loss')\n",
    "    plt.xlabel('Epoch')\n",
    "    plt.legend(loc='upper left')\n",
    "\n",
    "    # Show the plot\n",
    "    plt.tight_layout()\n",
    "    plt.show()"
   ]
  },
  {
   "cell_type": "code",
   "execution_count": null,
   "id": "d059c87a",
   "metadata": {},
   "outputs": [],
   "source": []
  }
 ],
 "metadata": {
  "kernelspec": {
   "display_name": "Python 3 (ipykernel)",
   "language": "python",
   "name": "python3"
  },
  "language_info": {
   "codemirror_mode": {
    "name": "ipython",
    "version": 3
   },
   "file_extension": ".py",
   "mimetype": "text/x-python",
   "name": "python",
   "nbconvert_exporter": "python",
   "pygments_lexer": "ipython3",
   "version": "3.11.5"
  }
 },
 "nbformat": 4,
 "nbformat_minor": 5
}
